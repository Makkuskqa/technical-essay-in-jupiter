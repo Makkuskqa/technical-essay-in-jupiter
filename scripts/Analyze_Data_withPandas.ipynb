{
 "cells": [
  {
   "cell_type": "code",
   "execution_count": 294,
   "metadata": {},
   "outputs": [],
   "source": [
    "import pandas as pd\n",
    "from sqlalchemy import create_engine"
   ]
  },
  {
   "cell_type": "code",
   "execution_count": 295,
   "metadata": {},
   "outputs": [],
   "source": [
    "# TODO : Extract data from Postgres and then disconnect connection\n",
    "\n",
    "# Define your PostgreSQL connection parameters\n",
    "db_params = {\n",
    "    'dbname': 'mydb',\n",
    "    'user': 'postgres',\n",
    "    'password': '1',\n",
    "    'host': 'localhost',\n",
    "    'port': '5432'\n",
    "}\n",
    "\n",
    "# Create the connection URL\n",
    "connection_url = f\"postgresql+psycopg2://{db_params['user']}:{db_params['password']}@{db_params['host']}:{db_params['port']}/{db_params['dbname']}\"\n",
    "\n",
    "# Create the connection engine\n",
    "engine = create_engine(connection_url)\n",
    "\n",
    "# Specify your schema\n",
    "schema_name = 'test_task'\n",
    "\n",
    "\n",
    "# TODO : accounts\n",
    "sql_query_accounts = f\"SELECT * FROM \\\"{schema_name}\\\".accounts\"\n",
    "accounts = pd.read_sql(sql_query_accounts, engine)\n",
    "accounts = accounts.rename(columns={\"id\":\"profile_id\"})\n",
    "\n",
    "\n",
    "# TODO : posts\n",
    "sql_query_posts = f\"SELECT * FROM \\\"{schema_name}\\\".posts\"\n",
    "posts = pd.read_sql(sql_query_posts, engine)\n",
    "posts = posts.rename(columns={\"id\":\"post_id\"})\n",
    "\n",
    "\n",
    "# TODO : sources_for_followers\n",
    "sql_query_sources_for_followers = f\"SELECT * FROM \\\"{schema_name}\\\".sources_for_followers\"\n",
    "sources_for_followers = pd.read_sql(sql_query_sources_for_followers, engine)\n",
    "\n",
    "\n",
    "# Close the connection\n",
    "engine.dispose()"
   ]
  },
  {
   "cell_type": "code",
   "execution_count": 296,
   "metadata": {},
   "outputs": [],
   "source": [
    "# TODO : Need to change  posts.<profile_id>  to accounts.<alt_id> because values not matched\n",
    "\n",
    "# Merge posts with accounts on the given condition\n",
    "merged_df = posts.merge(accounts, left_on='profile_id', right_on='id_alt', how='left')\n",
    "\n",
    "# Replace the 'profile_id' in posts dataframe\n",
    "posts['profile_id'] = merged_df['profile_id_x'].where(merged_df['profile_id_y'].isna(), merged_df['profile_id_y'])"
   ]
  },
  {
   "attachments": {},
   "cell_type": "markdown",
   "metadata": {},
   "source": [
    "# First Tables analyse "
   ]
  },
  {
   "attachments": {},
   "cell_type": "markdown",
   "metadata": {},
   "source": [
    "##  ---> accounts + sources_for_followers"
   ]
  },
  {
   "cell_type": "code",
   "execution_count": 297,
   "metadata": {},
   "outputs": [],
   "source": [
    "import numpy as np\n",
    "import plotly.express as px\n",
    "import plotly.graph_objects as go\n",
    "from plotly.subplots import make_subplots\n",
    "from IPython.display import display, Markdown"
   ]
  },
  {
   "cell_type": "code",
   "execution_count": 298,
   "metadata": {},
   "outputs": [],
   "source": [
    "# TODO : accounts full info (accounts + source for followers)\n",
    "\n",
    "account_full_info = accounts.merge(sources_for_followers, how='outer', on='_id')\n"
   ]
  },
  {
   "attachments": {},
   "cell_type": "markdown",
   "metadata": {},
   "source": [
    "test chart 1. Username and all followers, with legend (True or false in verified)"
   ]
  },
  {
   "cell_type": "code",
   "execution_count": 299,
   "metadata": {},
   "outputs": [],
   "source": [
    "# TODO : bar plotly diagram to see accounts and their followers #media_and_followers(account_full_info)\n",
    "\n",
    "def media_and_followers(account_full_info):\n",
    "    account_full_info = account_full_info.sort_values(by='followers_count', ascending=False)\n",
    "\n",
    "    # Define colors based on 'is_verified'\n",
    "    account_full_info['color'] = account_full_info['is_verified'].map({\n",
    "        True: 'green',\n",
    "        False: 'red'\n",
    "    }).fillna('orange')\n",
    "\n",
    "\n",
    "    fig = px.bar(\n",
    "        account_full_info, \n",
    "        x='username', \n",
    "        y='followers_count', \n",
    "        title=\"username vs. followers (divided on verified accounts)\",\n",
    "        color_discrete_map={\n",
    "            True: 'green',\n",
    "            False: 'red',\n",
    "            None: 'orange'\n",
    "        },\n",
    "        color='is_verified'\n",
    "    )\n",
    "\n",
    "    # Show plot\n",
    "    fig.show()\n",
    "\n",
    "    text0 = f\"**->Here we can see the highest media channels by their reach of subscribers.**\"\n",
    "    display(Markdown(text0))"
   ]
  },
  {
   "cell_type": "code",
   "execution_count": null,
   "metadata": {},
   "outputs": [],
   "source": []
  },
  {
   "attachments": {},
   "cell_type": "markdown",
   "metadata": {},
   "source": [
    "## ---> posts stats by comments and posts (merge with accounts info)"
   ]
  },
  {
   "attachments": {},
   "cell_type": "markdown",
   "metadata": {},
   "source": [
    "## 1. > all activity over time on line chart "
   ]
  },
  {
   "cell_type": "code",
   "execution_count": 300,
   "metadata": {},
   "outputs": [],
   "source": [
    "# TODO : (All posts activity by time range)  #posts_and_comments_OverTime(posts)\n",
    "\n",
    "def posts_and_comments_OverTime(posts):\n",
    "    date_period = posts.copy(deep=True)\n",
    "    date_period['created_time'] = pd.to_datetime(date_period['created_time'], utc=True)#.dt.tz_convert('UTC').dt.strftime(\"%Y-%m-%d\")#.apply(pd.to_datetime)\n",
    "    date_period = date_period.set_index('created_time')\n",
    "\n",
    "    grouped = date_period.groupby([date_period.index.year.rename('Year'), \n",
    "                                date_period.index.month.rename('Month'), \n",
    "                                date_period.index.day.rename('Day')])\\\n",
    "                        .agg(all_posts=pd.NamedAgg(column='post_id', aggfunc='count'),\n",
    "                            all_comments=pd.NamedAgg(column='comments_count', aggfunc='sum')).reset_index()\n",
    "\n",
    "    grouped['Date'] = pd.to_datetime(grouped[['Year', 'Month', 'Day']])\n",
    "\n",
    "\n",
    "    # TODO : double subplot for STATS OVER TIME\n",
    "\n",
    "    fig = make_subplots(specs=[[{\"secondary_y\": True}]])\n",
    "\n",
    "    fig.add_trace(go.Scatter(x=grouped['Date'], y=grouped['all_posts'], name=\"All Posts\"), secondary_y=False)\n",
    "    fig.add_trace(go.Scatter(x=grouped['Date'], y=grouped['all_comments'], name=\"All Comments\"), secondary_y=True)\n",
    "\n",
    "    fig.update_layout(title_text=\"Posts and Comments over Time\")\n",
    "    fig.update_xaxes(title_text=\"Date\")\n",
    "    fig.update_yaxes(title_text=\"All Posts\", secondary_y=False)\n",
    "    fig.update_yaxes(title_text=\"All Comments\", secondary_y=True)\n",
    "\n",
    "    fig.show()\n",
    "\n",
    "    text1 = f\"**->On this chart we can see activity of posts number and how many comments activity they scored.**\\n\\n**->You can roughly see that every 5-10 days there was a post that became a mini-trend or just went viral.**\"\n",
    "    display(Markdown(text1))"
   ]
  },
  {
   "cell_type": "code",
   "execution_count": null,
   "metadata": {},
   "outputs": [],
   "source": []
  },
  {
   "attachments": {},
   "cell_type": "markdown",
   "metadata": {},
   "source": [
    "## 2. > media sources activity on  chart"
   ]
  },
  {
   "cell_type": "code",
   "execution_count": 301,
   "metadata": {},
   "outputs": [],
   "source": [
    "# TODO : we have NaN values in username -- for every NaN changing it for a new unique value   ## name_generator() // fill_with_unique_name(val)\n",
    "\n",
    "# Create a generator that yields the new unique names\n",
    "def name_generator():\n",
    "    count = 1\n",
    "    while True:\n",
    "        yield f'without name {count}'\n",
    "        count += 1\n",
    "\n",
    "gen = name_generator()\n",
    "\n",
    "# Create a custom function that fills NaN values using the generator\n",
    "def fill_with_unique_name(val):\n",
    "    if pd.isna(val):\n",
    "        return next(gen)\n",
    "    else:\n",
    "        return val\n",
    "\n"
   ]
  },
  {
   "cell_type": "code",
   "execution_count": 302,
   "metadata": {},
   "outputs": [],
   "source": [
    "# TODO : merge and transform data for media sources activity chart\n",
    "\n",
    "posts_info_withAks = posts.merge(account_full_info, how='outer', on='profile_id')\n",
    "\n",
    "Aks_groupbyPosts = posts_info_withAks.groupby(['profile_id', 'username', 'is_verified', '_id', 'followers_count'], dropna=False)\\\n",
    "    [['post_id','comments_count']].agg(\n",
    "        all_posts = ('post_id','count'),\n",
    "        all_comments = ('comments_count','sum')).reset_index()\n",
    "\n",
    "\n",
    "# Apply this function to the column\n",
    "Aks_groupbyPosts['username'] = Aks_groupbyPosts['username'].apply(fill_with_unique_name)\n",
    "\n",
    "\n",
    "# TODO : \n",
    "Aks_groupbyPosts[['followers_count',\t'all_posts',\t'all_comments']] = Aks_groupbyPosts[['followers_count',\t'all_posts',\t'all_comments']].astype('int')\n",
    "\n",
    "Aks_groupbyPosts['%comments coverage for 5 months'] = (Aks_groupbyPosts['all_comments'] /Aks_groupbyPosts['followers_count']) *100"
   ]
  },
  {
   "attachments": {},
   "cell_type": "markdown",
   "metadata": {},
   "source": [
    "2.1 -> All Media Activity 5 months total"
   ]
  },
  {
   "cell_type": "code",
   "execution_count": 303,
   "metadata": {},
   "outputs": [],
   "source": [
    "# TODO :First Chart: \"All media activity\"  #Media_activity_total_5Months(Aks_groupbyPosts)\n",
    "\n",
    "def Media_activity_total_5Months(Aks_groupbyPosts):\n",
    "    Aks_groupbyPosts = Aks_groupbyPosts.sort_values(by='followers_count', ascending=False)\n",
    "\n",
    "    # Define colors based on 'is_verified'\n",
    "    Aks_groupbyPosts['color'] = Aks_groupbyPosts['is_verified'].map({\n",
    "        True: 'green',\n",
    "        False: 'red'}).fillna('orange')\n",
    "\n",
    "    # Create the plot\n",
    "    fig1 = go.Figure()\n",
    "\n",
    "    # Add the actual data traces with the desired names for the legend\n",
    "    fig1.add_trace(go.Bar(x=Aks_groupbyPosts['username'], y=Aks_groupbyPosts['all_posts'], \n",
    "                        name='All Posts',\n",
    "                        marker_color=Aks_groupbyPosts['color']))\n",
    "\n",
    "    fig1.add_trace(go.Scatter(x=Aks_groupbyPosts['username'], y=Aks_groupbyPosts['all_comments'], \n",
    "                            yaxis='y2', name='All Comments',\n",
    "                            line=dict(color='blue')))\n",
    "\n",
    "    fig1.update_layout(title='All Media Activity 5 months total', \n",
    "                    xaxis_title='Username', \n",
    "                    yaxis_title='All Posts',\n",
    "                    yaxis2=dict(title='All Comments', overlaying='y', side='right'))\n",
    "\n",
    "    fig1.show()\n",
    "\n",
    "    text2 = f\"**->On this chart we can see: How many posts and comments has every media sources (5 months)**\\n\\n**Red - not verified**\\n\\n**Green - verified**\\n\\n**Orange - don't know**\"\n",
    "    display(Markdown(text2))"
   ]
  },
  {
   "cell_type": "code",
   "execution_count": null,
   "metadata": {},
   "outputs": [],
   "source": []
  },
  {
   "attachments": {},
   "cell_type": "markdown",
   "metadata": {},
   "source": [
    "2.2 -> %Comments Coverage by source , 5 Months"
   ]
  },
  {
   "cell_type": "code",
   "execution_count": 304,
   "metadata": {},
   "outputs": [],
   "source": [
    "# TODO : second chart Audience Activity # audience_activity(Aks_groupbyPosts)\n",
    "\n",
    "def audience_activity(Aks_groupbyPosts):\n",
    "    color_map = {\n",
    "        True: 'green',\n",
    "        False: 'red',\n",
    "        np.nan: 'orange'\n",
    "    }\n",
    "\n",
    "    # Create a color column\n",
    "    Aks_groupbyPosts['color'] = Aks_groupbyPosts['is_verified'].map(color_map)\n",
    "\n",
    "    fig2 = go.Figure()\n",
    "\n",
    "    # Bar trace with the color mapping\n",
    "    fig2.add_trace(go.Bar(x=Aks_groupbyPosts['username'], \n",
    "                        y=Aks_groupbyPosts['followers_count'], \n",
    "                        name='Followers Count', \n",
    "                        marker=dict(color=Aks_groupbyPosts['color'])))\n",
    "\n",
    "    # Line trace\n",
    "    fig2.add_trace(go.Scatter(x=Aks_groupbyPosts['username'], \n",
    "                            y=Aks_groupbyPosts['%comments coverage for 5 months'], \n",
    "                            name='%Comments Coverage for 5 Months', \n",
    "                            yaxis='y2', \n",
    "                            line=dict(color='blue')))\n",
    "\n",
    "    # Layout update\n",
    "    fig2.update_layout(title='Audience Activity', \n",
    "                    xaxis_title='Username', \n",
    "                    yaxis_title='Followers Count',\n",
    "                    yaxis2=dict(title='%Comments Coverage for 5 Months', overlaying='y', side='right'))\n",
    "\n",
    "    # Show the figure\n",
    "    fig2.show()\n",
    "\n",
    "    text3 = f\"**->On this chart we can see: How many posts and which subscribers activity has every media sources (5 months)**\\n\\n**Red - not verified**\\n\\n**Green - verified**\\n\\n**Orange - don't know**\"\n",
    "    display(Markdown(text3))"
   ]
  },
  {
   "cell_type": "code",
   "execution_count": null,
   "metadata": {},
   "outputs": [],
   "source": []
  },
  {
   "attachments": {},
   "cell_type": "markdown",
   "metadata": {},
   "source": [
    "## 3. -> All media activity on period charts "
   ]
  },
  {
   "cell_type": "code",
   "execution_count": 305,
   "metadata": {},
   "outputs": [],
   "source": [
    "# TODO : df operations\n",
    "posts_info_withAks['created_time'] = pd.to_datetime(posts_info_withAks['created_time'], utc=True).dt.tz_convert('UTC').dt.strftime(\"%Y-%m-%d\")#.apply(pd.to_datetime)\n",
    "\n",
    "Aks_groupbyPosts_periods = posts_info_withAks.groupby(['profile_id', 'username', 'is_verified', '_id', 'followers_count','created_time'], dropna=False)\\\n",
    "    [['post_id','comments_count']].agg(\n",
    "        all_posts = ('post_id','count'),\n",
    "        all_comments = ('comments_count','sum')).reset_index()\n",
    "\n",
    "\n",
    "condition = Aks_groupbyPosts_periods['username'].isna()\n",
    "Aks_groupbyPosts_periods['username'] = np.where(\n",
    "    condition,\n",
    "    Aks_groupbyPosts_periods['profile_id'].astype(str).str[-4:],\n",
    "    Aks_groupbyPosts_periods['username'])"
   ]
  },
  {
   "attachments": {},
   "cell_type": "markdown",
   "metadata": {},
   "source": [
    "3. -> All posts by every account on chart"
   ]
  },
  {
   "cell_type": "code",
   "execution_count": 306,
   "metadata": {},
   "outputs": [],
   "source": [
    "# TODO : third CHART sum posts on period line divided by media sources. # SumPosts_OnPeriod_Divided_byMedia(Aks_groupbyPosts_periods)\n",
    "\n",
    "def SumPosts_OnPeriod_Divided_byMedia(Aks_groupbyPosts_periods):\n",
    "    fig = go.Figure()\n",
    "\n",
    "    color_map = {\n",
    "        True: 'green',\n",
    "        False: 'red'\n",
    "    }\n",
    "\n",
    "    for user in Aks_groupbyPosts_periods['username'].unique():\n",
    "        user_Aks_groupbyPosts_periods = Aks_groupbyPosts_periods[Aks_groupbyPosts_periods['username'] == user]\n",
    "        # Use the first row's 'is_verified' status to determine the color for this user\n",
    "        is_verified_val = user_Aks_groupbyPosts_periods['is_verified'].iloc[0]\n",
    "        if pd.isna(is_verified_val):\n",
    "            color = 'orange'\n",
    "        else:\n",
    "            color = color_map[is_verified_val]\n",
    "        \n",
    "        fig.add_trace(go.Scatter(\n",
    "            x=user_Aks_groupbyPosts_periods['created_time'], \n",
    "            y=user_Aks_groupbyPosts_periods['all_posts'], \n",
    "            name=user,\n",
    "            mode='lines',\n",
    "            line=dict(color=color),\n",
    "            hovertemplate=(\n",
    "                f\"Username: {user}<br>\"\n",
    "                f\"Sum Posts: {{y}}<br>\"\n",
    "                f\"Date: {{x}}\"\n",
    "            )\n",
    "        ))\n",
    "\n",
    "    # Add a legend to describe the colors\n",
    "    annotations = [\n",
    "        dict(x=1.05, y=1, xref='paper', yref='paper', showarrow=False, text=\"Colors:\", font=dict(size=15)),\n",
    "        dict(x=1.05, y=0.9, xref='paper', yref='paper', showarrow=False, text=\"Verified: Green\"),\n",
    "        dict(x=1.05, y=0.8, xref='paper', yref='paper', showarrow=False, text=\"Not Verified: Red\"),\n",
    "        dict(x=1.05, y=0.7, xref='paper', yref='paper', showarrow=False, text=\"Unknown: Orange\"),\n",
    "    ]\n",
    "\n",
    "    fig.update_layout(annotations=annotations)\n",
    "    fig.update_layout(\n",
    "        title=\"sum posts on period line divided by media sources\",\n",
    "        annotations=annotations\n",
    "    )\n",
    "    fig.show()\n",
    "\n",
    "    text4 = f\"**On chart we can see sum posts on period line divided by media sources.**\\n\\n**Red - not verified**\\n\\n**Green - verified**\\n\\n**Orange - don't know**\\n\\n**But on this chart hard to see something**\"\n",
    "    display(Markdown(text4))"
   ]
  },
  {
   "cell_type": "code",
   "execution_count": null,
   "metadata": {},
   "outputs": [],
   "source": []
  },
  {
   "attachments": {},
   "cell_type": "markdown",
   "metadata": {},
   "source": [
    "3.2 -> all comments by every username on period"
   ]
  },
  {
   "cell_type": "code",
   "execution_count": 307,
   "metadata": {},
   "outputs": [],
   "source": [
    "# TODO : fourth CHART sum comments on period line divided by media sources\n",
    "\n",
    "def SumComments_OnPeriod_Divided_byMedia(Aks_groupbyPosts_periods):\n",
    "    fig = go.Figure()\n",
    "\n",
    "    color_map = {\n",
    "        True: 'green',\n",
    "        False: 'red'\n",
    "    }\n",
    "\n",
    "    for user in Aks_groupbyPosts_periods['username'].unique():\n",
    "        user_Aks_groupbyPosts_periods = Aks_groupbyPosts_periods[Aks_groupbyPosts_periods['username'] == user]\n",
    "        # Use the first row's 'is_verified' status to determine the color for this user\n",
    "        is_verified_val = user_Aks_groupbyPosts_periods['is_verified'].iloc[0]\n",
    "        if pd.isna(is_verified_val):\n",
    "            color = 'orange'\n",
    "        else:\n",
    "            color = color_map[is_verified_val]\n",
    "        \n",
    "        fig.add_trace(go.Scatter(\n",
    "            x=user_Aks_groupbyPosts_periods['created_time'], \n",
    "            y=user_Aks_groupbyPosts_periods['all_comments'], \n",
    "            name=user,\n",
    "            mode='lines',\n",
    "            line=dict(color=color),\n",
    "            hovertemplate=(\n",
    "                f\"Username: {user}<br>\"\n",
    "                f\"Sum Posts: {{y}}\"\n",
    "                f\"Date: {{x}}\"\n",
    "            )\n",
    "        ))\n",
    "\n",
    "    # Add a legend to describe the colors\n",
    "    annotations = [\n",
    "        dict(x=1.05, y=1, xref='paper', yref='paper', showarrow=False, text=\"Colors:\", font=dict(size=15)),\n",
    "        dict(x=1.05, y=0.9, xref='paper', yref='paper', showarrow=False, text=\"Verified: Green\"),\n",
    "        dict(x=1.05, y=0.8, xref='paper', yref='paper', showarrow=False, text=\"Not Verified: Red\"),\n",
    "        dict(x=1.05, y=0.7, xref='paper', yref='paper', showarrow=False, text=\"Unknown: Orange\"),\n",
    "    ]\n",
    "\n",
    "    fig.update_layout(annotations=annotations)\n",
    "    fig.update_layout(\n",
    "        title=\"sum comments on period line divided by media sources\",\n",
    "        annotations=annotations\n",
    "    )\n",
    "    fig.show()\n",
    "\n",
    "    text4 = f\"**On chart we can see sum comments on period line divided by media sources.**\\n\\n**Red - not verified**\\n\\n**Green - verified**\\n\\n**Orange - don't know**\\n\\n**But on this chart hard to see something**\"\n",
    "    display(Markdown(text4))"
   ]
  },
  {
   "cell_type": "code",
   "execution_count": null,
   "metadata": {},
   "outputs": [],
   "source": []
  },
  {
   "cell_type": "code",
   "execution_count": 318,
   "metadata": {},
   "outputs": [],
   "source": [
    "# TODO : Display Dataframe with Trends Posts # display_trends_posts()\n",
    "\n",
    "def display_trends_posts():\n",
    "    # Calculate the threshold using quantile\n",
    "    comment_threshold = posts_info_withAks['comments_count'].quantile(0.95)\n",
    "\n",
    "    # Filter the dataframe for posts that exceed this threshold\n",
    "    peak_posts = posts_info_withAks[posts_info_withAks['comments_count'] > comment_threshold]\n",
    "\n",
    "    # Display specific columns of interest for these high-comment posts\n",
    "    return peak_posts[['created_time', 'username', 'description', 'text_original', 'comments_count']]"
   ]
  },
  {
   "cell_type": "code",
   "execution_count": 309,
   "metadata": {},
   "outputs": [],
   "source": [
    "# TODO : Divide Media followers on quantiles and then grouping relevant info... #stats_byGrouped_Media(Aks_groupbyPosts_periods)\n",
    "\n",
    "def stats_byGrouped_Media(Aks_groupbyPosts_periods):\n",
    "    labels = [\"Small media\", \"Medium media\", \"Large media\", \"Giant media\"]\n",
    "    Aks_groupbyPosts_periods['quantile_group'] = pd.qcut(Aks_groupbyPosts_periods['followers_count'], q=4, labels=labels).astype('str')\n",
    "    group_size_quantiles = Aks_groupbyPosts_periods.copy(deep=True)\n",
    "\n",
    "    group_size_quantiles['is_verified'] = np.where(group_size_quantiles['is_verified']==True, 1, 0)\n",
    "\n",
    "\n",
    "    group_size_quantiles_groupby_Media = group_size_quantiles.groupby(['username','quantile_group','is_verified', 'followers_count'])[[ 'all_posts',\t'all_comments', 'created_time']]\\\n",
    "        .agg(all_posts = ('all_posts', 'sum'), all_comments = ('all_comments', 'sum'), active_days = ('created_time', 'count')).reset_index()\n",
    "\n",
    "    media_group_quantiles = group_size_quantiles_groupby_Media.groupby(['quantile_group'])[['is_verified', 'followers_count','all_posts', 'all_comments', 'active_days']].agg(\n",
    "        all_accounts_inGroup = ('is_verified', 'count'),\n",
    "        verified_accounts = ('is_verified', 'sum'),\n",
    "        all_followers = ('followers_count', 'sum'),\n",
    "        all_posts = ('all_posts', 'sum'),\n",
    "        all_comments = ('all_comments', 'sum'),\n",
    "        average_activeDays = ('active_days', 'mean')\n",
    "    ).reset_index()\n",
    "\n",
    "\n",
    "    media_group_quantiles['Total_comments_percentage'] = ((media_group_quantiles['all_comments'] / media_group_quantiles['all_comments'].sum())*100).round().astype(str) + '%'\n",
    "    media_group_quantiles['Total_posts_percentage'] = ((media_group_quantiles['all_posts'] / media_group_quantiles['all_posts'].sum())*100).round().astype(str) + '%'\n",
    "    media_group_quantiles = media_group_quantiles[['quantile_group', 'all_accounts_inGroup', 'verified_accounts',\n",
    "        'all_followers', 'all_posts','Total_posts_percentage', 'all_comments', 'Total_comments_percentage','average_activeDays']]\n",
    "\n",
    "    def highlight_rows(row):\n",
    "        if row.name in [1, 2]:\n",
    "            return ['background-color: green'] * len(row)\n",
    "        return [''] * len(row)\n",
    "\n",
    "    styled_df = media_group_quantiles.style.apply(highlight_rows, axis=1)\n",
    "    display(styled_df)"
   ]
  },
  {
   "attachments": {},
   "cell_type": "markdown",
   "metadata": {},
   "source": [
    "#             !! Output result with key metrics !!"
   ]
  },
  {
   "attachments": {},
   "cell_type": "markdown",
   "metadata": {},
   "source": [
    "## -> 1. Chart \"All MediaSources & followers\" + legend for verified aks"
   ]
  },
  {
   "cell_type": "code",
   "execution_count": 310,
   "metadata": {},
   "outputs": [
    {
     "data": {
      "application/vnd.plotly.v1+json": {
       "config": {
        "plotlyServerURL": "https://plot.ly"
       },
       "data": [
        {
         "alignmentgroup": "True",
         "hovertemplate": "is_verified=True<br>username=%{x}<br>followers_count=%{y}<extra></extra>",
         "legendgroup": "True",
         "marker": {
          "color": "green",
          "pattern": {
           "shape": ""
          }
         },
         "name": "True",
         "offsetgroup": "True",
         "orientation": "v",
         "showlegend": true,
         "textposition": "auto",
         "type": "bar",
         "x": [
          "george.simion.unire",
          "lentaru",
          "sputnik.france",
          "1tvnews",
          "tassagency",
          "mod.mil.rus",
          "nicvoiculet",
          "tsoncho.ganev",
          "ambrusitalia",
          "russembangola"
         ],
         "xaxis": "x",
         "y": [
          1200000,
          834183,
          786228,
          781400,
          761570,
          358126,
          63460,
          58000,
          38000,
          26000
         ],
         "yaxis": "y"
        },
        {
         "alignmentgroup": "True",
         "hovertemplate": "is_verified=False<br>username=%{x}<br>followers_count=%{y}<extra></extra>",
         "legendgroup": "False",
         "marker": {
          "color": "red",
          "pattern": {
           "shape": ""
          }
         },
         "name": "False",
         "offsetgroup": "False",
         "orientation": "v",
         "showlegend": true,
         "textposition": "auto",
         "type": "bar",
         "x": [
          "wimacht",
          "ing.milan.uhrik",
          "4media.INFO",
          "Sergiu.Mihalcea.PaginaOficiala",
          "giorgio.bianchi.100",
          "RT.InoTV",
          "neverforgetniki",
          "armadaRF",
          "wochenblick",
          "Prüfe-alles-glaube-wenig-denke-selbst",
          "friedentotal",
          "unzensuriert",
          "NuoViso.TV",
          "RussophiliaBulgarophilia",
          "ukraina.ru",
          "NatoAustritt",
          "shesti.elena"
         ],
         "xaxis": "x",
         "y": [
          262072,
          155000,
          137915,
          126000,
          107436,
          107387,
          93000,
          83000,
          77000,
          74000,
          62416,
          58000,
          41000,
          40000,
          38000,
          24392,
          23000
         ],
         "yaxis": "y"
        }
       ],
       "layout": {
        "barmode": "relative",
        "legend": {
         "title": {
          "text": "is_verified"
         },
         "tracegroupgap": 0
        },
        "template": {
         "data": {
          "bar": [
           {
            "error_x": {
             "color": "#2a3f5f"
            },
            "error_y": {
             "color": "#2a3f5f"
            },
            "marker": {
             "line": {
              "color": "#E5ECF6",
              "width": 0.5
             },
             "pattern": {
              "fillmode": "overlay",
              "size": 10,
              "solidity": 0.2
             }
            },
            "type": "bar"
           }
          ],
          "barpolar": [
           {
            "marker": {
             "line": {
              "color": "#E5ECF6",
              "width": 0.5
             },
             "pattern": {
              "fillmode": "overlay",
              "size": 10,
              "solidity": 0.2
             }
            },
            "type": "barpolar"
           }
          ],
          "carpet": [
           {
            "aaxis": {
             "endlinecolor": "#2a3f5f",
             "gridcolor": "white",
             "linecolor": "white",
             "minorgridcolor": "white",
             "startlinecolor": "#2a3f5f"
            },
            "baxis": {
             "endlinecolor": "#2a3f5f",
             "gridcolor": "white",
             "linecolor": "white",
             "minorgridcolor": "white",
             "startlinecolor": "#2a3f5f"
            },
            "type": "carpet"
           }
          ],
          "choropleth": [
           {
            "colorbar": {
             "outlinewidth": 0,
             "ticks": ""
            },
            "type": "choropleth"
           }
          ],
          "contour": [
           {
            "colorbar": {
             "outlinewidth": 0,
             "ticks": ""
            },
            "colorscale": [
             [
              0,
              "#0d0887"
             ],
             [
              0.1111111111111111,
              "#46039f"
             ],
             [
              0.2222222222222222,
              "#7201a8"
             ],
             [
              0.3333333333333333,
              "#9c179e"
             ],
             [
              0.4444444444444444,
              "#bd3786"
             ],
             [
              0.5555555555555556,
              "#d8576b"
             ],
             [
              0.6666666666666666,
              "#ed7953"
             ],
             [
              0.7777777777777778,
              "#fb9f3a"
             ],
             [
              0.8888888888888888,
              "#fdca26"
             ],
             [
              1,
              "#f0f921"
             ]
            ],
            "type": "contour"
           }
          ],
          "contourcarpet": [
           {
            "colorbar": {
             "outlinewidth": 0,
             "ticks": ""
            },
            "type": "contourcarpet"
           }
          ],
          "heatmap": [
           {
            "colorbar": {
             "outlinewidth": 0,
             "ticks": ""
            },
            "colorscale": [
             [
              0,
              "#0d0887"
             ],
             [
              0.1111111111111111,
              "#46039f"
             ],
             [
              0.2222222222222222,
              "#7201a8"
             ],
             [
              0.3333333333333333,
              "#9c179e"
             ],
             [
              0.4444444444444444,
              "#bd3786"
             ],
             [
              0.5555555555555556,
              "#d8576b"
             ],
             [
              0.6666666666666666,
              "#ed7953"
             ],
             [
              0.7777777777777778,
              "#fb9f3a"
             ],
             [
              0.8888888888888888,
              "#fdca26"
             ],
             [
              1,
              "#f0f921"
             ]
            ],
            "type": "heatmap"
           }
          ],
          "heatmapgl": [
           {
            "colorbar": {
             "outlinewidth": 0,
             "ticks": ""
            },
            "colorscale": [
             [
              0,
              "#0d0887"
             ],
             [
              0.1111111111111111,
              "#46039f"
             ],
             [
              0.2222222222222222,
              "#7201a8"
             ],
             [
              0.3333333333333333,
              "#9c179e"
             ],
             [
              0.4444444444444444,
              "#bd3786"
             ],
             [
              0.5555555555555556,
              "#d8576b"
             ],
             [
              0.6666666666666666,
              "#ed7953"
             ],
             [
              0.7777777777777778,
              "#fb9f3a"
             ],
             [
              0.8888888888888888,
              "#fdca26"
             ],
             [
              1,
              "#f0f921"
             ]
            ],
            "type": "heatmapgl"
           }
          ],
          "histogram": [
           {
            "marker": {
             "pattern": {
              "fillmode": "overlay",
              "size": 10,
              "solidity": 0.2
             }
            },
            "type": "histogram"
           }
          ],
          "histogram2d": [
           {
            "colorbar": {
             "outlinewidth": 0,
             "ticks": ""
            },
            "colorscale": [
             [
              0,
              "#0d0887"
             ],
             [
              0.1111111111111111,
              "#46039f"
             ],
             [
              0.2222222222222222,
              "#7201a8"
             ],
             [
              0.3333333333333333,
              "#9c179e"
             ],
             [
              0.4444444444444444,
              "#bd3786"
             ],
             [
              0.5555555555555556,
              "#d8576b"
             ],
             [
              0.6666666666666666,
              "#ed7953"
             ],
             [
              0.7777777777777778,
              "#fb9f3a"
             ],
             [
              0.8888888888888888,
              "#fdca26"
             ],
             [
              1,
              "#f0f921"
             ]
            ],
            "type": "histogram2d"
           }
          ],
          "histogram2dcontour": [
           {
            "colorbar": {
             "outlinewidth": 0,
             "ticks": ""
            },
            "colorscale": [
             [
              0,
              "#0d0887"
             ],
             [
              0.1111111111111111,
              "#46039f"
             ],
             [
              0.2222222222222222,
              "#7201a8"
             ],
             [
              0.3333333333333333,
              "#9c179e"
             ],
             [
              0.4444444444444444,
              "#bd3786"
             ],
             [
              0.5555555555555556,
              "#d8576b"
             ],
             [
              0.6666666666666666,
              "#ed7953"
             ],
             [
              0.7777777777777778,
              "#fb9f3a"
             ],
             [
              0.8888888888888888,
              "#fdca26"
             ],
             [
              1,
              "#f0f921"
             ]
            ],
            "type": "histogram2dcontour"
           }
          ],
          "mesh3d": [
           {
            "colorbar": {
             "outlinewidth": 0,
             "ticks": ""
            },
            "type": "mesh3d"
           }
          ],
          "parcoords": [
           {
            "line": {
             "colorbar": {
              "outlinewidth": 0,
              "ticks": ""
             }
            },
            "type": "parcoords"
           }
          ],
          "pie": [
           {
            "automargin": true,
            "type": "pie"
           }
          ],
          "scatter": [
           {
            "fillpattern": {
             "fillmode": "overlay",
             "size": 10,
             "solidity": 0.2
            },
            "type": "scatter"
           }
          ],
          "scatter3d": [
           {
            "line": {
             "colorbar": {
              "outlinewidth": 0,
              "ticks": ""
             }
            },
            "marker": {
             "colorbar": {
              "outlinewidth": 0,
              "ticks": ""
             }
            },
            "type": "scatter3d"
           }
          ],
          "scattercarpet": [
           {
            "marker": {
             "colorbar": {
              "outlinewidth": 0,
              "ticks": ""
             }
            },
            "type": "scattercarpet"
           }
          ],
          "scattergeo": [
           {
            "marker": {
             "colorbar": {
              "outlinewidth": 0,
              "ticks": ""
             }
            },
            "type": "scattergeo"
           }
          ],
          "scattergl": [
           {
            "marker": {
             "colorbar": {
              "outlinewidth": 0,
              "ticks": ""
             }
            },
            "type": "scattergl"
           }
          ],
          "scattermapbox": [
           {
            "marker": {
             "colorbar": {
              "outlinewidth": 0,
              "ticks": ""
             }
            },
            "type": "scattermapbox"
           }
          ],
          "scatterpolar": [
           {
            "marker": {
             "colorbar": {
              "outlinewidth": 0,
              "ticks": ""
             }
            },
            "type": "scatterpolar"
           }
          ],
          "scatterpolargl": [
           {
            "marker": {
             "colorbar": {
              "outlinewidth": 0,
              "ticks": ""
             }
            },
            "type": "scatterpolargl"
           }
          ],
          "scatterternary": [
           {
            "marker": {
             "colorbar": {
              "outlinewidth": 0,
              "ticks": ""
             }
            },
            "type": "scatterternary"
           }
          ],
          "surface": [
           {
            "colorbar": {
             "outlinewidth": 0,
             "ticks": ""
            },
            "colorscale": [
             [
              0,
              "#0d0887"
             ],
             [
              0.1111111111111111,
              "#46039f"
             ],
             [
              0.2222222222222222,
              "#7201a8"
             ],
             [
              0.3333333333333333,
              "#9c179e"
             ],
             [
              0.4444444444444444,
              "#bd3786"
             ],
             [
              0.5555555555555556,
              "#d8576b"
             ],
             [
              0.6666666666666666,
              "#ed7953"
             ],
             [
              0.7777777777777778,
              "#fb9f3a"
             ],
             [
              0.8888888888888888,
              "#fdca26"
             ],
             [
              1,
              "#f0f921"
             ]
            ],
            "type": "surface"
           }
          ],
          "table": [
           {
            "cells": {
             "fill": {
              "color": "#EBF0F8"
             },
             "line": {
              "color": "white"
             }
            },
            "header": {
             "fill": {
              "color": "#C8D4E3"
             },
             "line": {
              "color": "white"
             }
            },
            "type": "table"
           }
          ]
         },
         "layout": {
          "annotationdefaults": {
           "arrowcolor": "#2a3f5f",
           "arrowhead": 0,
           "arrowwidth": 1
          },
          "autotypenumbers": "strict",
          "coloraxis": {
           "colorbar": {
            "outlinewidth": 0,
            "ticks": ""
           }
          },
          "colorscale": {
           "diverging": [
            [
             0,
             "#8e0152"
            ],
            [
             0.1,
             "#c51b7d"
            ],
            [
             0.2,
             "#de77ae"
            ],
            [
             0.3,
             "#f1b6da"
            ],
            [
             0.4,
             "#fde0ef"
            ],
            [
             0.5,
             "#f7f7f7"
            ],
            [
             0.6,
             "#e6f5d0"
            ],
            [
             0.7,
             "#b8e186"
            ],
            [
             0.8,
             "#7fbc41"
            ],
            [
             0.9,
             "#4d9221"
            ],
            [
             1,
             "#276419"
            ]
           ],
           "sequential": [
            [
             0,
             "#0d0887"
            ],
            [
             0.1111111111111111,
             "#46039f"
            ],
            [
             0.2222222222222222,
             "#7201a8"
            ],
            [
             0.3333333333333333,
             "#9c179e"
            ],
            [
             0.4444444444444444,
             "#bd3786"
            ],
            [
             0.5555555555555556,
             "#d8576b"
            ],
            [
             0.6666666666666666,
             "#ed7953"
            ],
            [
             0.7777777777777778,
             "#fb9f3a"
            ],
            [
             0.8888888888888888,
             "#fdca26"
            ],
            [
             1,
             "#f0f921"
            ]
           ],
           "sequentialminus": [
            [
             0,
             "#0d0887"
            ],
            [
             0.1111111111111111,
             "#46039f"
            ],
            [
             0.2222222222222222,
             "#7201a8"
            ],
            [
             0.3333333333333333,
             "#9c179e"
            ],
            [
             0.4444444444444444,
             "#bd3786"
            ],
            [
             0.5555555555555556,
             "#d8576b"
            ],
            [
             0.6666666666666666,
             "#ed7953"
            ],
            [
             0.7777777777777778,
             "#fb9f3a"
            ],
            [
             0.8888888888888888,
             "#fdca26"
            ],
            [
             1,
             "#f0f921"
            ]
           ]
          },
          "colorway": [
           "#636efa",
           "#EF553B",
           "#00cc96",
           "#ab63fa",
           "#FFA15A",
           "#19d3f3",
           "#FF6692",
           "#B6E880",
           "#FF97FF",
           "#FECB52"
          ],
          "font": {
           "color": "#2a3f5f"
          },
          "geo": {
           "bgcolor": "white",
           "lakecolor": "white",
           "landcolor": "#E5ECF6",
           "showlakes": true,
           "showland": true,
           "subunitcolor": "white"
          },
          "hoverlabel": {
           "align": "left"
          },
          "hovermode": "closest",
          "mapbox": {
           "style": "light"
          },
          "paper_bgcolor": "white",
          "plot_bgcolor": "#E5ECF6",
          "polar": {
           "angularaxis": {
            "gridcolor": "white",
            "linecolor": "white",
            "ticks": ""
           },
           "bgcolor": "#E5ECF6",
           "radialaxis": {
            "gridcolor": "white",
            "linecolor": "white",
            "ticks": ""
           }
          },
          "scene": {
           "xaxis": {
            "backgroundcolor": "#E5ECF6",
            "gridcolor": "white",
            "gridwidth": 2,
            "linecolor": "white",
            "showbackground": true,
            "ticks": "",
            "zerolinecolor": "white"
           },
           "yaxis": {
            "backgroundcolor": "#E5ECF6",
            "gridcolor": "white",
            "gridwidth": 2,
            "linecolor": "white",
            "showbackground": true,
            "ticks": "",
            "zerolinecolor": "white"
           },
           "zaxis": {
            "backgroundcolor": "#E5ECF6",
            "gridcolor": "white",
            "gridwidth": 2,
            "linecolor": "white",
            "showbackground": true,
            "ticks": "",
            "zerolinecolor": "white"
           }
          },
          "shapedefaults": {
           "line": {
            "color": "#2a3f5f"
           }
          },
          "ternary": {
           "aaxis": {
            "gridcolor": "white",
            "linecolor": "white",
            "ticks": ""
           },
           "baxis": {
            "gridcolor": "white",
            "linecolor": "white",
            "ticks": ""
           },
           "bgcolor": "#E5ECF6",
           "caxis": {
            "gridcolor": "white",
            "linecolor": "white",
            "ticks": ""
           }
          },
          "title": {
           "x": 0.05
          },
          "xaxis": {
           "automargin": true,
           "gridcolor": "white",
           "linecolor": "white",
           "ticks": "",
           "title": {
            "standoff": 15
           },
           "zerolinecolor": "white",
           "zerolinewidth": 2
          },
          "yaxis": {
           "automargin": true,
           "gridcolor": "white",
           "linecolor": "white",
           "ticks": "",
           "title": {
            "standoff": 15
           },
           "zerolinecolor": "white",
           "zerolinewidth": 2
          }
         }
        },
        "title": {
         "text": "username vs. followers (divided on verified accounts)"
        },
        "xaxis": {
         "anchor": "y",
         "domain": [
          0,
          1
         ],
         "title": {
          "text": "username"
         }
        },
        "yaxis": {
         "anchor": "x",
         "domain": [
          0,
          1
         ],
         "title": {
          "text": "followers_count"
         }
        }
       }
      }
     },
     "metadata": {},
     "output_type": "display_data"
    },
    {
     "data": {
      "text/markdown": [
       "**->Here we can see the highest media channels by their reach of subscribers.**"
      ],
      "text/plain": [
       "<IPython.core.display.Markdown object>"
      ]
     },
     "metadata": {},
     "output_type": "display_data"
    }
   ],
   "source": [
    "media_and_followers(account_full_info)"
   ]
  },
  {
   "attachments": {},
   "cell_type": "markdown",
   "metadata": {},
   "source": [
    "## -> 2. Chart \"Posts and Comments\" on timeline"
   ]
  },
  {
   "cell_type": "code",
   "execution_count": 311,
   "metadata": {},
   "outputs": [
    {
     "data": {
      "application/vnd.plotly.v1+json": {
       "config": {
        "plotlyServerURL": "https://plot.ly"
       },
       "data": [
        {
         "name": "All Posts",
         "type": "scatter",
         "x": [
          "2022-12-01T00:00:00",
          "2022-12-09T00:00:00",
          "2022-12-13T00:00:00",
          "2022-12-14T00:00:00",
          "2022-12-15T00:00:00",
          "2022-12-17T00:00:00",
          "2022-12-18T00:00:00",
          "2022-12-20T00:00:00",
          "2022-12-22T00:00:00",
          "2022-12-23T00:00:00",
          "2022-12-24T00:00:00",
          "2022-12-25T00:00:00",
          "2022-12-26T00:00:00",
          "2022-12-27T00:00:00",
          "2022-12-29T00:00:00",
          "2022-12-31T00:00:00",
          "2023-01-02T00:00:00",
          "2023-01-04T00:00:00",
          "2023-01-05T00:00:00",
          "2023-01-06T00:00:00",
          "2023-01-10T00:00:00",
          "2023-01-11T00:00:00",
          "2023-01-12T00:00:00",
          "2023-01-14T00:00:00",
          "2023-01-19T00:00:00",
          "2023-01-22T00:00:00",
          "2023-01-23T00:00:00",
          "2023-01-24T00:00:00",
          "2023-01-26T00:00:00",
          "2023-01-27T00:00:00",
          "2023-01-30T00:00:00",
          "2023-01-31T00:00:00",
          "2023-02-01T00:00:00",
          "2023-02-02T00:00:00",
          "2023-02-03T00:00:00",
          "2023-02-05T00:00:00",
          "2023-02-06T00:00:00",
          "2023-02-07T00:00:00",
          "2023-02-09T00:00:00",
          "2023-02-15T00:00:00",
          "2023-02-16T00:00:00",
          "2023-02-17T00:00:00",
          "2023-02-18T00:00:00",
          "2023-02-21T00:00:00",
          "2023-02-22T00:00:00",
          "2023-02-23T00:00:00",
          "2023-02-24T00:00:00",
          "2023-02-25T00:00:00",
          "2023-02-27T00:00:00",
          "2023-02-28T00:00:00",
          "2023-03-01T00:00:00",
          "2023-03-02T00:00:00",
          "2023-03-03T00:00:00",
          "2023-03-04T00:00:00",
          "2023-03-06T00:00:00",
          "2023-03-08T00:00:00",
          "2023-03-09T00:00:00",
          "2023-03-10T00:00:00",
          "2023-03-11T00:00:00",
          "2023-03-12T00:00:00",
          "2023-03-13T00:00:00",
          "2023-03-14T00:00:00",
          "2023-03-15T00:00:00",
          "2023-03-16T00:00:00",
          "2023-03-17T00:00:00",
          "2023-03-18T00:00:00",
          "2023-03-19T00:00:00",
          "2023-03-20T00:00:00",
          "2023-03-21T00:00:00",
          "2023-03-22T00:00:00",
          "2023-03-23T00:00:00",
          "2023-03-24T00:00:00",
          "2023-03-25T00:00:00",
          "2023-03-26T00:00:00",
          "2023-03-27T00:00:00",
          "2023-03-28T00:00:00",
          "2023-03-29T00:00:00",
          "2023-03-30T00:00:00",
          "2023-03-31T00:00:00",
          "2023-04-01T00:00:00",
          "2023-04-02T00:00:00",
          "2023-04-03T00:00:00",
          "2023-04-04T00:00:00",
          "2023-04-05T00:00:00",
          "2023-04-06T00:00:00",
          "2023-04-07T00:00:00",
          "2023-04-08T00:00:00",
          "2023-04-09T00:00:00",
          "2023-04-10T00:00:00",
          "2023-04-11T00:00:00",
          "2023-04-12T00:00:00",
          "2023-04-13T00:00:00",
          "2023-04-14T00:00:00",
          "2023-04-15T00:00:00",
          "2023-04-16T00:00:00",
          "2023-04-17T00:00:00",
          "2023-04-18T00:00:00",
          "2023-04-19T00:00:00",
          "2023-04-20T00:00:00",
          "2023-04-21T00:00:00",
          "2023-04-22T00:00:00",
          "2023-04-23T00:00:00",
          "2023-04-24T00:00:00"
         ],
         "xaxis": "x",
         "y": [
          3,
          1,
          1,
          2,
          2,
          1,
          2,
          1,
          3,
          1,
          1,
          2,
          1,
          1,
          1,
          2,
          2,
          1,
          2,
          1,
          1,
          1,
          3,
          1,
          1,
          1,
          3,
          2,
          2,
          2,
          2,
          2,
          3,
          4,
          2,
          1,
          7,
          5,
          2,
          1,
          1,
          1,
          2,
          2,
          3,
          1,
          1,
          4,
          1,
          1,
          3,
          3,
          3,
          1,
          3,
          2,
          4,
          7,
          4,
          2,
          12,
          13,
          18,
          12,
          8,
          8,
          4,
          5,
          6,
          9,
          9,
          8,
          6,
          2,
          8,
          3,
          1,
          5,
          6,
          7,
          7,
          7,
          13,
          15,
          13,
          10,
          5,
          9,
          5,
          4,
          3,
          6,
          3,
          7,
          10,
          19,
          30,
          40,
          79,
          78,
          77,
          183,
          239
         ],
         "yaxis": "y"
        },
        {
         "name": "All Comments",
         "type": "scatter",
         "x": [
          "2022-12-01T00:00:00",
          "2022-12-09T00:00:00",
          "2022-12-13T00:00:00",
          "2022-12-14T00:00:00",
          "2022-12-15T00:00:00",
          "2022-12-17T00:00:00",
          "2022-12-18T00:00:00",
          "2022-12-20T00:00:00",
          "2022-12-22T00:00:00",
          "2022-12-23T00:00:00",
          "2022-12-24T00:00:00",
          "2022-12-25T00:00:00",
          "2022-12-26T00:00:00",
          "2022-12-27T00:00:00",
          "2022-12-29T00:00:00",
          "2022-12-31T00:00:00",
          "2023-01-02T00:00:00",
          "2023-01-04T00:00:00",
          "2023-01-05T00:00:00",
          "2023-01-06T00:00:00",
          "2023-01-10T00:00:00",
          "2023-01-11T00:00:00",
          "2023-01-12T00:00:00",
          "2023-01-14T00:00:00",
          "2023-01-19T00:00:00",
          "2023-01-22T00:00:00",
          "2023-01-23T00:00:00",
          "2023-01-24T00:00:00",
          "2023-01-26T00:00:00",
          "2023-01-27T00:00:00",
          "2023-01-30T00:00:00",
          "2023-01-31T00:00:00",
          "2023-02-01T00:00:00",
          "2023-02-02T00:00:00",
          "2023-02-03T00:00:00",
          "2023-02-05T00:00:00",
          "2023-02-06T00:00:00",
          "2023-02-07T00:00:00",
          "2023-02-09T00:00:00",
          "2023-02-15T00:00:00",
          "2023-02-16T00:00:00",
          "2023-02-17T00:00:00",
          "2023-02-18T00:00:00",
          "2023-02-21T00:00:00",
          "2023-02-22T00:00:00",
          "2023-02-23T00:00:00",
          "2023-02-24T00:00:00",
          "2023-02-25T00:00:00",
          "2023-02-27T00:00:00",
          "2023-02-28T00:00:00",
          "2023-03-01T00:00:00",
          "2023-03-02T00:00:00",
          "2023-03-03T00:00:00",
          "2023-03-04T00:00:00",
          "2023-03-06T00:00:00",
          "2023-03-08T00:00:00",
          "2023-03-09T00:00:00",
          "2023-03-10T00:00:00",
          "2023-03-11T00:00:00",
          "2023-03-12T00:00:00",
          "2023-03-13T00:00:00",
          "2023-03-14T00:00:00",
          "2023-03-15T00:00:00",
          "2023-03-16T00:00:00",
          "2023-03-17T00:00:00",
          "2023-03-18T00:00:00",
          "2023-03-19T00:00:00",
          "2023-03-20T00:00:00",
          "2023-03-21T00:00:00",
          "2023-03-22T00:00:00",
          "2023-03-23T00:00:00",
          "2023-03-24T00:00:00",
          "2023-03-25T00:00:00",
          "2023-03-26T00:00:00",
          "2023-03-27T00:00:00",
          "2023-03-28T00:00:00",
          "2023-03-29T00:00:00",
          "2023-03-30T00:00:00",
          "2023-03-31T00:00:00",
          "2023-04-01T00:00:00",
          "2023-04-02T00:00:00",
          "2023-04-03T00:00:00",
          "2023-04-04T00:00:00",
          "2023-04-05T00:00:00",
          "2023-04-06T00:00:00",
          "2023-04-07T00:00:00",
          "2023-04-08T00:00:00",
          "2023-04-09T00:00:00",
          "2023-04-10T00:00:00",
          "2023-04-11T00:00:00",
          "2023-04-12T00:00:00",
          "2023-04-13T00:00:00",
          "2023-04-14T00:00:00",
          "2023-04-15T00:00:00",
          "2023-04-16T00:00:00",
          "2023-04-17T00:00:00",
          "2023-04-18T00:00:00",
          "2023-04-19T00:00:00",
          "2023-04-20T00:00:00",
          "2023-04-21T00:00:00",
          "2023-04-22T00:00:00",
          "2023-04-23T00:00:00",
          "2023-04-24T00:00:00"
         ],
         "xaxis": "x",
         "y": [
          51,
          80,
          33,
          39,
          131,
          66,
          55,
          18,
          348,
          28,
          83,
          53,
          94,
          291,
          106,
          591,
          31,
          21,
          132,
          92,
          0,
          7,
          222,
          19,
          18,
          8,
          126,
          37,
          88,
          60,
          123,
          194,
          40,
          33,
          11,
          133,
          391,
          249,
          57,
          26,
          4,
          7,
          287,
          475,
          125,
          6,
          9,
          187,
          87,
          1,
          197,
          15,
          59,
          6,
          157,
          52,
          213,
          182,
          228,
          48,
          285,
          96,
          344,
          245,
          46,
          292,
          2,
          99,
          122,
          2,
          15,
          1,
          4,
          15,
          7,
          89,
          0,
          27,
          25,
          61,
          15,
          33,
          226,
          63,
          26,
          28,
          76,
          47,
          69,
          94,
          8,
          24,
          1,
          211,
          122,
          53,
          42,
          105,
          194,
          87,
          139,
          1067,
          1856
         ],
         "yaxis": "y2"
        }
       ],
       "layout": {
        "template": {
         "data": {
          "bar": [
           {
            "error_x": {
             "color": "#2a3f5f"
            },
            "error_y": {
             "color": "#2a3f5f"
            },
            "marker": {
             "line": {
              "color": "#E5ECF6",
              "width": 0.5
             },
             "pattern": {
              "fillmode": "overlay",
              "size": 10,
              "solidity": 0.2
             }
            },
            "type": "bar"
           }
          ],
          "barpolar": [
           {
            "marker": {
             "line": {
              "color": "#E5ECF6",
              "width": 0.5
             },
             "pattern": {
              "fillmode": "overlay",
              "size": 10,
              "solidity": 0.2
             }
            },
            "type": "barpolar"
           }
          ],
          "carpet": [
           {
            "aaxis": {
             "endlinecolor": "#2a3f5f",
             "gridcolor": "white",
             "linecolor": "white",
             "minorgridcolor": "white",
             "startlinecolor": "#2a3f5f"
            },
            "baxis": {
             "endlinecolor": "#2a3f5f",
             "gridcolor": "white",
             "linecolor": "white",
             "minorgridcolor": "white",
             "startlinecolor": "#2a3f5f"
            },
            "type": "carpet"
           }
          ],
          "choropleth": [
           {
            "colorbar": {
             "outlinewidth": 0,
             "ticks": ""
            },
            "type": "choropleth"
           }
          ],
          "contour": [
           {
            "colorbar": {
             "outlinewidth": 0,
             "ticks": ""
            },
            "colorscale": [
             [
              0,
              "#0d0887"
             ],
             [
              0.1111111111111111,
              "#46039f"
             ],
             [
              0.2222222222222222,
              "#7201a8"
             ],
             [
              0.3333333333333333,
              "#9c179e"
             ],
             [
              0.4444444444444444,
              "#bd3786"
             ],
             [
              0.5555555555555556,
              "#d8576b"
             ],
             [
              0.6666666666666666,
              "#ed7953"
             ],
             [
              0.7777777777777778,
              "#fb9f3a"
             ],
             [
              0.8888888888888888,
              "#fdca26"
             ],
             [
              1,
              "#f0f921"
             ]
            ],
            "type": "contour"
           }
          ],
          "contourcarpet": [
           {
            "colorbar": {
             "outlinewidth": 0,
             "ticks": ""
            },
            "type": "contourcarpet"
           }
          ],
          "heatmap": [
           {
            "colorbar": {
             "outlinewidth": 0,
             "ticks": ""
            },
            "colorscale": [
             [
              0,
              "#0d0887"
             ],
             [
              0.1111111111111111,
              "#46039f"
             ],
             [
              0.2222222222222222,
              "#7201a8"
             ],
             [
              0.3333333333333333,
              "#9c179e"
             ],
             [
              0.4444444444444444,
              "#bd3786"
             ],
             [
              0.5555555555555556,
              "#d8576b"
             ],
             [
              0.6666666666666666,
              "#ed7953"
             ],
             [
              0.7777777777777778,
              "#fb9f3a"
             ],
             [
              0.8888888888888888,
              "#fdca26"
             ],
             [
              1,
              "#f0f921"
             ]
            ],
            "type": "heatmap"
           }
          ],
          "heatmapgl": [
           {
            "colorbar": {
             "outlinewidth": 0,
             "ticks": ""
            },
            "colorscale": [
             [
              0,
              "#0d0887"
             ],
             [
              0.1111111111111111,
              "#46039f"
             ],
             [
              0.2222222222222222,
              "#7201a8"
             ],
             [
              0.3333333333333333,
              "#9c179e"
             ],
             [
              0.4444444444444444,
              "#bd3786"
             ],
             [
              0.5555555555555556,
              "#d8576b"
             ],
             [
              0.6666666666666666,
              "#ed7953"
             ],
             [
              0.7777777777777778,
              "#fb9f3a"
             ],
             [
              0.8888888888888888,
              "#fdca26"
             ],
             [
              1,
              "#f0f921"
             ]
            ],
            "type": "heatmapgl"
           }
          ],
          "histogram": [
           {
            "marker": {
             "pattern": {
              "fillmode": "overlay",
              "size": 10,
              "solidity": 0.2
             }
            },
            "type": "histogram"
           }
          ],
          "histogram2d": [
           {
            "colorbar": {
             "outlinewidth": 0,
             "ticks": ""
            },
            "colorscale": [
             [
              0,
              "#0d0887"
             ],
             [
              0.1111111111111111,
              "#46039f"
             ],
             [
              0.2222222222222222,
              "#7201a8"
             ],
             [
              0.3333333333333333,
              "#9c179e"
             ],
             [
              0.4444444444444444,
              "#bd3786"
             ],
             [
              0.5555555555555556,
              "#d8576b"
             ],
             [
              0.6666666666666666,
              "#ed7953"
             ],
             [
              0.7777777777777778,
              "#fb9f3a"
             ],
             [
              0.8888888888888888,
              "#fdca26"
             ],
             [
              1,
              "#f0f921"
             ]
            ],
            "type": "histogram2d"
           }
          ],
          "histogram2dcontour": [
           {
            "colorbar": {
             "outlinewidth": 0,
             "ticks": ""
            },
            "colorscale": [
             [
              0,
              "#0d0887"
             ],
             [
              0.1111111111111111,
              "#46039f"
             ],
             [
              0.2222222222222222,
              "#7201a8"
             ],
             [
              0.3333333333333333,
              "#9c179e"
             ],
             [
              0.4444444444444444,
              "#bd3786"
             ],
             [
              0.5555555555555556,
              "#d8576b"
             ],
             [
              0.6666666666666666,
              "#ed7953"
             ],
             [
              0.7777777777777778,
              "#fb9f3a"
             ],
             [
              0.8888888888888888,
              "#fdca26"
             ],
             [
              1,
              "#f0f921"
             ]
            ],
            "type": "histogram2dcontour"
           }
          ],
          "mesh3d": [
           {
            "colorbar": {
             "outlinewidth": 0,
             "ticks": ""
            },
            "type": "mesh3d"
           }
          ],
          "parcoords": [
           {
            "line": {
             "colorbar": {
              "outlinewidth": 0,
              "ticks": ""
             }
            },
            "type": "parcoords"
           }
          ],
          "pie": [
           {
            "automargin": true,
            "type": "pie"
           }
          ],
          "scatter": [
           {
            "fillpattern": {
             "fillmode": "overlay",
             "size": 10,
             "solidity": 0.2
            },
            "type": "scatter"
           }
          ],
          "scatter3d": [
           {
            "line": {
             "colorbar": {
              "outlinewidth": 0,
              "ticks": ""
             }
            },
            "marker": {
             "colorbar": {
              "outlinewidth": 0,
              "ticks": ""
             }
            },
            "type": "scatter3d"
           }
          ],
          "scattercarpet": [
           {
            "marker": {
             "colorbar": {
              "outlinewidth": 0,
              "ticks": ""
             }
            },
            "type": "scattercarpet"
           }
          ],
          "scattergeo": [
           {
            "marker": {
             "colorbar": {
              "outlinewidth": 0,
              "ticks": ""
             }
            },
            "type": "scattergeo"
           }
          ],
          "scattergl": [
           {
            "marker": {
             "colorbar": {
              "outlinewidth": 0,
              "ticks": ""
             }
            },
            "type": "scattergl"
           }
          ],
          "scattermapbox": [
           {
            "marker": {
             "colorbar": {
              "outlinewidth": 0,
              "ticks": ""
             }
            },
            "type": "scattermapbox"
           }
          ],
          "scatterpolar": [
           {
            "marker": {
             "colorbar": {
              "outlinewidth": 0,
              "ticks": ""
             }
            },
            "type": "scatterpolar"
           }
          ],
          "scatterpolargl": [
           {
            "marker": {
             "colorbar": {
              "outlinewidth": 0,
              "ticks": ""
             }
            },
            "type": "scatterpolargl"
           }
          ],
          "scatterternary": [
           {
            "marker": {
             "colorbar": {
              "outlinewidth": 0,
              "ticks": ""
             }
            },
            "type": "scatterternary"
           }
          ],
          "surface": [
           {
            "colorbar": {
             "outlinewidth": 0,
             "ticks": ""
            },
            "colorscale": [
             [
              0,
              "#0d0887"
             ],
             [
              0.1111111111111111,
              "#46039f"
             ],
             [
              0.2222222222222222,
              "#7201a8"
             ],
             [
              0.3333333333333333,
              "#9c179e"
             ],
             [
              0.4444444444444444,
              "#bd3786"
             ],
             [
              0.5555555555555556,
              "#d8576b"
             ],
             [
              0.6666666666666666,
              "#ed7953"
             ],
             [
              0.7777777777777778,
              "#fb9f3a"
             ],
             [
              0.8888888888888888,
              "#fdca26"
             ],
             [
              1,
              "#f0f921"
             ]
            ],
            "type": "surface"
           }
          ],
          "table": [
           {
            "cells": {
             "fill": {
              "color": "#EBF0F8"
             },
             "line": {
              "color": "white"
             }
            },
            "header": {
             "fill": {
              "color": "#C8D4E3"
             },
             "line": {
              "color": "white"
             }
            },
            "type": "table"
           }
          ]
         },
         "layout": {
          "annotationdefaults": {
           "arrowcolor": "#2a3f5f",
           "arrowhead": 0,
           "arrowwidth": 1
          },
          "autotypenumbers": "strict",
          "coloraxis": {
           "colorbar": {
            "outlinewidth": 0,
            "ticks": ""
           }
          },
          "colorscale": {
           "diverging": [
            [
             0,
             "#8e0152"
            ],
            [
             0.1,
             "#c51b7d"
            ],
            [
             0.2,
             "#de77ae"
            ],
            [
             0.3,
             "#f1b6da"
            ],
            [
             0.4,
             "#fde0ef"
            ],
            [
             0.5,
             "#f7f7f7"
            ],
            [
             0.6,
             "#e6f5d0"
            ],
            [
             0.7,
             "#b8e186"
            ],
            [
             0.8,
             "#7fbc41"
            ],
            [
             0.9,
             "#4d9221"
            ],
            [
             1,
             "#276419"
            ]
           ],
           "sequential": [
            [
             0,
             "#0d0887"
            ],
            [
             0.1111111111111111,
             "#46039f"
            ],
            [
             0.2222222222222222,
             "#7201a8"
            ],
            [
             0.3333333333333333,
             "#9c179e"
            ],
            [
             0.4444444444444444,
             "#bd3786"
            ],
            [
             0.5555555555555556,
             "#d8576b"
            ],
            [
             0.6666666666666666,
             "#ed7953"
            ],
            [
             0.7777777777777778,
             "#fb9f3a"
            ],
            [
             0.8888888888888888,
             "#fdca26"
            ],
            [
             1,
             "#f0f921"
            ]
           ],
           "sequentialminus": [
            [
             0,
             "#0d0887"
            ],
            [
             0.1111111111111111,
             "#46039f"
            ],
            [
             0.2222222222222222,
             "#7201a8"
            ],
            [
             0.3333333333333333,
             "#9c179e"
            ],
            [
             0.4444444444444444,
             "#bd3786"
            ],
            [
             0.5555555555555556,
             "#d8576b"
            ],
            [
             0.6666666666666666,
             "#ed7953"
            ],
            [
             0.7777777777777778,
             "#fb9f3a"
            ],
            [
             0.8888888888888888,
             "#fdca26"
            ],
            [
             1,
             "#f0f921"
            ]
           ]
          },
          "colorway": [
           "#636efa",
           "#EF553B",
           "#00cc96",
           "#ab63fa",
           "#FFA15A",
           "#19d3f3",
           "#FF6692",
           "#B6E880",
           "#FF97FF",
           "#FECB52"
          ],
          "font": {
           "color": "#2a3f5f"
          },
          "geo": {
           "bgcolor": "white",
           "lakecolor": "white",
           "landcolor": "#E5ECF6",
           "showlakes": true,
           "showland": true,
           "subunitcolor": "white"
          },
          "hoverlabel": {
           "align": "left"
          },
          "hovermode": "closest",
          "mapbox": {
           "style": "light"
          },
          "paper_bgcolor": "white",
          "plot_bgcolor": "#E5ECF6",
          "polar": {
           "angularaxis": {
            "gridcolor": "white",
            "linecolor": "white",
            "ticks": ""
           },
           "bgcolor": "#E5ECF6",
           "radialaxis": {
            "gridcolor": "white",
            "linecolor": "white",
            "ticks": ""
           }
          },
          "scene": {
           "xaxis": {
            "backgroundcolor": "#E5ECF6",
            "gridcolor": "white",
            "gridwidth": 2,
            "linecolor": "white",
            "showbackground": true,
            "ticks": "",
            "zerolinecolor": "white"
           },
           "yaxis": {
            "backgroundcolor": "#E5ECF6",
            "gridcolor": "white",
            "gridwidth": 2,
            "linecolor": "white",
            "showbackground": true,
            "ticks": "",
            "zerolinecolor": "white"
           },
           "zaxis": {
            "backgroundcolor": "#E5ECF6",
            "gridcolor": "white",
            "gridwidth": 2,
            "linecolor": "white",
            "showbackground": true,
            "ticks": "",
            "zerolinecolor": "white"
           }
          },
          "shapedefaults": {
           "line": {
            "color": "#2a3f5f"
           }
          },
          "ternary": {
           "aaxis": {
            "gridcolor": "white",
            "linecolor": "white",
            "ticks": ""
           },
           "baxis": {
            "gridcolor": "white",
            "linecolor": "white",
            "ticks": ""
           },
           "bgcolor": "#E5ECF6",
           "caxis": {
            "gridcolor": "white",
            "linecolor": "white",
            "ticks": ""
           }
          },
          "title": {
           "x": 0.05
          },
          "xaxis": {
           "automargin": true,
           "gridcolor": "white",
           "linecolor": "white",
           "ticks": "",
           "title": {
            "standoff": 15
           },
           "zerolinecolor": "white",
           "zerolinewidth": 2
          },
          "yaxis": {
           "automargin": true,
           "gridcolor": "white",
           "linecolor": "white",
           "ticks": "",
           "title": {
            "standoff": 15
           },
           "zerolinecolor": "white",
           "zerolinewidth": 2
          }
         }
        },
        "title": {
         "text": "Posts and Comments over Time"
        },
        "xaxis": {
         "anchor": "y",
         "domain": [
          0,
          0.94
         ],
         "title": {
          "text": "Date"
         }
        },
        "yaxis": {
         "anchor": "x",
         "domain": [
          0,
          1
         ],
         "title": {
          "text": "All Posts"
         }
        },
        "yaxis2": {
         "anchor": "x",
         "overlaying": "y",
         "side": "right",
         "title": {
          "text": "All Comments"
         }
        }
       }
      }
     },
     "metadata": {},
     "output_type": "display_data"
    },
    {
     "data": {
      "text/markdown": [
       "**->On this chart we can see activity of posts number and how many comments activity they scored.**\n",
       "\n",
       "**->You can roughly see that every 5-10 days there was a post that became a mini-trend or just went viral.**"
      ],
      "text/plain": [
       "<IPython.core.display.Markdown object>"
      ]
     },
     "metadata": {},
     "output_type": "display_data"
    }
   ],
   "source": [
    "posts_and_comments_OverTime(posts)"
   ]
  },
  {
   "attachments": {},
   "cell_type": "markdown",
   "metadata": {},
   "source": [
    "## -> 3. Chart \"Media activity\" total 5 month"
   ]
  },
  {
   "cell_type": "code",
   "execution_count": 312,
   "metadata": {},
   "outputs": [
    {
     "data": {
      "application/vnd.plotly.v1+json": {
       "config": {
        "plotlyServerURL": "https://plot.ly"
       },
       "data": [
        {
         "marker": {
          "color": [
           "green",
           "green",
           "green",
           "green",
           "green",
           "green",
           "red",
           "red",
           "red",
           "red",
           "red",
           "red",
           "red",
           "red",
           "red",
           "red",
           "green",
           "red",
           "red",
           "green",
           "orange",
           "orange",
           "red",
           "red",
           "green",
           "red",
           "green",
           "red",
           "red",
           "orange"
          ]
         },
         "name": "All Posts",
         "type": "bar",
         "x": [
          "george.simion.unire",
          "lentaru",
          "sputnik.france",
          "1tvnews",
          "tassagency",
          "mod.mil.rus",
          "wimacht",
          "ing.milan.uhrik",
          "4media.INFO",
          "Sergiu.Mihalcea.PaginaOficiala",
          "giorgio.bianchi.100",
          "RT.InoTV",
          "neverforgetniki",
          "armadaRF",
          "wochenblick",
          "Prüfe-alles-glaube-wenig-denke-selbst",
          "nicvoiculet",
          "friedentotal",
          "unzensuriert",
          "tsoncho.ganev",
          "without name 2",
          "without name 1",
          "NuoViso.TV",
          "RussophiliaBulgarophilia",
          "ambrusitalia",
          "ukraina.ru",
          "russembangola",
          "NatoAustritt",
          "shesti.elena",
          "group/rumenradevspasitel"
         ],
         "y": [
          39,
          7,
          39,
          39,
          39,
          39,
          39,
          39,
          39,
          39,
          39,
          39,
          39,
          39,
          39,
          39,
          39,
          39,
          39,
          39,
          39,
          39,
          39,
          39,
          39,
          39,
          39,
          39,
          39,
          39
         ]
        },
        {
         "line": {
          "color": "blue"
         },
         "name": "All Comments",
         "type": "scatter",
         "x": [
          "george.simion.unire",
          "lentaru",
          "sputnik.france",
          "1tvnews",
          "tassagency",
          "mod.mil.rus",
          "wimacht",
          "ing.milan.uhrik",
          "4media.INFO",
          "Sergiu.Mihalcea.PaginaOficiala",
          "giorgio.bianchi.100",
          "RT.InoTV",
          "neverforgetniki",
          "armadaRF",
          "wochenblick",
          "Prüfe-alles-glaube-wenig-denke-selbst",
          "nicvoiculet",
          "friedentotal",
          "unzensuriert",
          "tsoncho.ganev",
          "without name 2",
          "without name 1",
          "NuoViso.TV",
          "RussophiliaBulgarophilia",
          "ambrusitalia",
          "ukraina.ru",
          "russembangola",
          "NatoAustritt",
          "shesti.elena",
          "group/rumenradevspasitel"
         ],
         "y": [
          1623,
          0,
          30,
          20,
          18,
          6,
          5,
          4,
          1,
          1269,
          266,
          3,
          87,
          189,
          8,
          2663,
          14,
          656,
          3853,
          145,
          124,
          182,
          11,
          44,
          384,
          150,
          662,
          30,
          46,
          400
         ],
         "yaxis": "y2"
        }
       ],
       "layout": {
        "template": {
         "data": {
          "bar": [
           {
            "error_x": {
             "color": "#2a3f5f"
            },
            "error_y": {
             "color": "#2a3f5f"
            },
            "marker": {
             "line": {
              "color": "#E5ECF6",
              "width": 0.5
             },
             "pattern": {
              "fillmode": "overlay",
              "size": 10,
              "solidity": 0.2
             }
            },
            "type": "bar"
           }
          ],
          "barpolar": [
           {
            "marker": {
             "line": {
              "color": "#E5ECF6",
              "width": 0.5
             },
             "pattern": {
              "fillmode": "overlay",
              "size": 10,
              "solidity": 0.2
             }
            },
            "type": "barpolar"
           }
          ],
          "carpet": [
           {
            "aaxis": {
             "endlinecolor": "#2a3f5f",
             "gridcolor": "white",
             "linecolor": "white",
             "minorgridcolor": "white",
             "startlinecolor": "#2a3f5f"
            },
            "baxis": {
             "endlinecolor": "#2a3f5f",
             "gridcolor": "white",
             "linecolor": "white",
             "minorgridcolor": "white",
             "startlinecolor": "#2a3f5f"
            },
            "type": "carpet"
           }
          ],
          "choropleth": [
           {
            "colorbar": {
             "outlinewidth": 0,
             "ticks": ""
            },
            "type": "choropleth"
           }
          ],
          "contour": [
           {
            "colorbar": {
             "outlinewidth": 0,
             "ticks": ""
            },
            "colorscale": [
             [
              0,
              "#0d0887"
             ],
             [
              0.1111111111111111,
              "#46039f"
             ],
             [
              0.2222222222222222,
              "#7201a8"
             ],
             [
              0.3333333333333333,
              "#9c179e"
             ],
             [
              0.4444444444444444,
              "#bd3786"
             ],
             [
              0.5555555555555556,
              "#d8576b"
             ],
             [
              0.6666666666666666,
              "#ed7953"
             ],
             [
              0.7777777777777778,
              "#fb9f3a"
             ],
             [
              0.8888888888888888,
              "#fdca26"
             ],
             [
              1,
              "#f0f921"
             ]
            ],
            "type": "contour"
           }
          ],
          "contourcarpet": [
           {
            "colorbar": {
             "outlinewidth": 0,
             "ticks": ""
            },
            "type": "contourcarpet"
           }
          ],
          "heatmap": [
           {
            "colorbar": {
             "outlinewidth": 0,
             "ticks": ""
            },
            "colorscale": [
             [
              0,
              "#0d0887"
             ],
             [
              0.1111111111111111,
              "#46039f"
             ],
             [
              0.2222222222222222,
              "#7201a8"
             ],
             [
              0.3333333333333333,
              "#9c179e"
             ],
             [
              0.4444444444444444,
              "#bd3786"
             ],
             [
              0.5555555555555556,
              "#d8576b"
             ],
             [
              0.6666666666666666,
              "#ed7953"
             ],
             [
              0.7777777777777778,
              "#fb9f3a"
             ],
             [
              0.8888888888888888,
              "#fdca26"
             ],
             [
              1,
              "#f0f921"
             ]
            ],
            "type": "heatmap"
           }
          ],
          "heatmapgl": [
           {
            "colorbar": {
             "outlinewidth": 0,
             "ticks": ""
            },
            "colorscale": [
             [
              0,
              "#0d0887"
             ],
             [
              0.1111111111111111,
              "#46039f"
             ],
             [
              0.2222222222222222,
              "#7201a8"
             ],
             [
              0.3333333333333333,
              "#9c179e"
             ],
             [
              0.4444444444444444,
              "#bd3786"
             ],
             [
              0.5555555555555556,
              "#d8576b"
             ],
             [
              0.6666666666666666,
              "#ed7953"
             ],
             [
              0.7777777777777778,
              "#fb9f3a"
             ],
             [
              0.8888888888888888,
              "#fdca26"
             ],
             [
              1,
              "#f0f921"
             ]
            ],
            "type": "heatmapgl"
           }
          ],
          "histogram": [
           {
            "marker": {
             "pattern": {
              "fillmode": "overlay",
              "size": 10,
              "solidity": 0.2
             }
            },
            "type": "histogram"
           }
          ],
          "histogram2d": [
           {
            "colorbar": {
             "outlinewidth": 0,
             "ticks": ""
            },
            "colorscale": [
             [
              0,
              "#0d0887"
             ],
             [
              0.1111111111111111,
              "#46039f"
             ],
             [
              0.2222222222222222,
              "#7201a8"
             ],
             [
              0.3333333333333333,
              "#9c179e"
             ],
             [
              0.4444444444444444,
              "#bd3786"
             ],
             [
              0.5555555555555556,
              "#d8576b"
             ],
             [
              0.6666666666666666,
              "#ed7953"
             ],
             [
              0.7777777777777778,
              "#fb9f3a"
             ],
             [
              0.8888888888888888,
              "#fdca26"
             ],
             [
              1,
              "#f0f921"
             ]
            ],
            "type": "histogram2d"
           }
          ],
          "histogram2dcontour": [
           {
            "colorbar": {
             "outlinewidth": 0,
             "ticks": ""
            },
            "colorscale": [
             [
              0,
              "#0d0887"
             ],
             [
              0.1111111111111111,
              "#46039f"
             ],
             [
              0.2222222222222222,
              "#7201a8"
             ],
             [
              0.3333333333333333,
              "#9c179e"
             ],
             [
              0.4444444444444444,
              "#bd3786"
             ],
             [
              0.5555555555555556,
              "#d8576b"
             ],
             [
              0.6666666666666666,
              "#ed7953"
             ],
             [
              0.7777777777777778,
              "#fb9f3a"
             ],
             [
              0.8888888888888888,
              "#fdca26"
             ],
             [
              1,
              "#f0f921"
             ]
            ],
            "type": "histogram2dcontour"
           }
          ],
          "mesh3d": [
           {
            "colorbar": {
             "outlinewidth": 0,
             "ticks": ""
            },
            "type": "mesh3d"
           }
          ],
          "parcoords": [
           {
            "line": {
             "colorbar": {
              "outlinewidth": 0,
              "ticks": ""
             }
            },
            "type": "parcoords"
           }
          ],
          "pie": [
           {
            "automargin": true,
            "type": "pie"
           }
          ],
          "scatter": [
           {
            "fillpattern": {
             "fillmode": "overlay",
             "size": 10,
             "solidity": 0.2
            },
            "type": "scatter"
           }
          ],
          "scatter3d": [
           {
            "line": {
             "colorbar": {
              "outlinewidth": 0,
              "ticks": ""
             }
            },
            "marker": {
             "colorbar": {
              "outlinewidth": 0,
              "ticks": ""
             }
            },
            "type": "scatter3d"
           }
          ],
          "scattercarpet": [
           {
            "marker": {
             "colorbar": {
              "outlinewidth": 0,
              "ticks": ""
             }
            },
            "type": "scattercarpet"
           }
          ],
          "scattergeo": [
           {
            "marker": {
             "colorbar": {
              "outlinewidth": 0,
              "ticks": ""
             }
            },
            "type": "scattergeo"
           }
          ],
          "scattergl": [
           {
            "marker": {
             "colorbar": {
              "outlinewidth": 0,
              "ticks": ""
             }
            },
            "type": "scattergl"
           }
          ],
          "scattermapbox": [
           {
            "marker": {
             "colorbar": {
              "outlinewidth": 0,
              "ticks": ""
             }
            },
            "type": "scattermapbox"
           }
          ],
          "scatterpolar": [
           {
            "marker": {
             "colorbar": {
              "outlinewidth": 0,
              "ticks": ""
             }
            },
            "type": "scatterpolar"
           }
          ],
          "scatterpolargl": [
           {
            "marker": {
             "colorbar": {
              "outlinewidth": 0,
              "ticks": ""
             }
            },
            "type": "scatterpolargl"
           }
          ],
          "scatterternary": [
           {
            "marker": {
             "colorbar": {
              "outlinewidth": 0,
              "ticks": ""
             }
            },
            "type": "scatterternary"
           }
          ],
          "surface": [
           {
            "colorbar": {
             "outlinewidth": 0,
             "ticks": ""
            },
            "colorscale": [
             [
              0,
              "#0d0887"
             ],
             [
              0.1111111111111111,
              "#46039f"
             ],
             [
              0.2222222222222222,
              "#7201a8"
             ],
             [
              0.3333333333333333,
              "#9c179e"
             ],
             [
              0.4444444444444444,
              "#bd3786"
             ],
             [
              0.5555555555555556,
              "#d8576b"
             ],
             [
              0.6666666666666666,
              "#ed7953"
             ],
             [
              0.7777777777777778,
              "#fb9f3a"
             ],
             [
              0.8888888888888888,
              "#fdca26"
             ],
             [
              1,
              "#f0f921"
             ]
            ],
            "type": "surface"
           }
          ],
          "table": [
           {
            "cells": {
             "fill": {
              "color": "#EBF0F8"
             },
             "line": {
              "color": "white"
             }
            },
            "header": {
             "fill": {
              "color": "#C8D4E3"
             },
             "line": {
              "color": "white"
             }
            },
            "type": "table"
           }
          ]
         },
         "layout": {
          "annotationdefaults": {
           "arrowcolor": "#2a3f5f",
           "arrowhead": 0,
           "arrowwidth": 1
          },
          "autotypenumbers": "strict",
          "coloraxis": {
           "colorbar": {
            "outlinewidth": 0,
            "ticks": ""
           }
          },
          "colorscale": {
           "diverging": [
            [
             0,
             "#8e0152"
            ],
            [
             0.1,
             "#c51b7d"
            ],
            [
             0.2,
             "#de77ae"
            ],
            [
             0.3,
             "#f1b6da"
            ],
            [
             0.4,
             "#fde0ef"
            ],
            [
             0.5,
             "#f7f7f7"
            ],
            [
             0.6,
             "#e6f5d0"
            ],
            [
             0.7,
             "#b8e186"
            ],
            [
             0.8,
             "#7fbc41"
            ],
            [
             0.9,
             "#4d9221"
            ],
            [
             1,
             "#276419"
            ]
           ],
           "sequential": [
            [
             0,
             "#0d0887"
            ],
            [
             0.1111111111111111,
             "#46039f"
            ],
            [
             0.2222222222222222,
             "#7201a8"
            ],
            [
             0.3333333333333333,
             "#9c179e"
            ],
            [
             0.4444444444444444,
             "#bd3786"
            ],
            [
             0.5555555555555556,
             "#d8576b"
            ],
            [
             0.6666666666666666,
             "#ed7953"
            ],
            [
             0.7777777777777778,
             "#fb9f3a"
            ],
            [
             0.8888888888888888,
             "#fdca26"
            ],
            [
             1,
             "#f0f921"
            ]
           ],
           "sequentialminus": [
            [
             0,
             "#0d0887"
            ],
            [
             0.1111111111111111,
             "#46039f"
            ],
            [
             0.2222222222222222,
             "#7201a8"
            ],
            [
             0.3333333333333333,
             "#9c179e"
            ],
            [
             0.4444444444444444,
             "#bd3786"
            ],
            [
             0.5555555555555556,
             "#d8576b"
            ],
            [
             0.6666666666666666,
             "#ed7953"
            ],
            [
             0.7777777777777778,
             "#fb9f3a"
            ],
            [
             0.8888888888888888,
             "#fdca26"
            ],
            [
             1,
             "#f0f921"
            ]
           ]
          },
          "colorway": [
           "#636efa",
           "#EF553B",
           "#00cc96",
           "#ab63fa",
           "#FFA15A",
           "#19d3f3",
           "#FF6692",
           "#B6E880",
           "#FF97FF",
           "#FECB52"
          ],
          "font": {
           "color": "#2a3f5f"
          },
          "geo": {
           "bgcolor": "white",
           "lakecolor": "white",
           "landcolor": "#E5ECF6",
           "showlakes": true,
           "showland": true,
           "subunitcolor": "white"
          },
          "hoverlabel": {
           "align": "left"
          },
          "hovermode": "closest",
          "mapbox": {
           "style": "light"
          },
          "paper_bgcolor": "white",
          "plot_bgcolor": "#E5ECF6",
          "polar": {
           "angularaxis": {
            "gridcolor": "white",
            "linecolor": "white",
            "ticks": ""
           },
           "bgcolor": "#E5ECF6",
           "radialaxis": {
            "gridcolor": "white",
            "linecolor": "white",
            "ticks": ""
           }
          },
          "scene": {
           "xaxis": {
            "backgroundcolor": "#E5ECF6",
            "gridcolor": "white",
            "gridwidth": 2,
            "linecolor": "white",
            "showbackground": true,
            "ticks": "",
            "zerolinecolor": "white"
           },
           "yaxis": {
            "backgroundcolor": "#E5ECF6",
            "gridcolor": "white",
            "gridwidth": 2,
            "linecolor": "white",
            "showbackground": true,
            "ticks": "",
            "zerolinecolor": "white"
           },
           "zaxis": {
            "backgroundcolor": "#E5ECF6",
            "gridcolor": "white",
            "gridwidth": 2,
            "linecolor": "white",
            "showbackground": true,
            "ticks": "",
            "zerolinecolor": "white"
           }
          },
          "shapedefaults": {
           "line": {
            "color": "#2a3f5f"
           }
          },
          "ternary": {
           "aaxis": {
            "gridcolor": "white",
            "linecolor": "white",
            "ticks": ""
           },
           "baxis": {
            "gridcolor": "white",
            "linecolor": "white",
            "ticks": ""
           },
           "bgcolor": "#E5ECF6",
           "caxis": {
            "gridcolor": "white",
            "linecolor": "white",
            "ticks": ""
           }
          },
          "title": {
           "x": 0.05
          },
          "xaxis": {
           "automargin": true,
           "gridcolor": "white",
           "linecolor": "white",
           "ticks": "",
           "title": {
            "standoff": 15
           },
           "zerolinecolor": "white",
           "zerolinewidth": 2
          },
          "yaxis": {
           "automargin": true,
           "gridcolor": "white",
           "linecolor": "white",
           "ticks": "",
           "title": {
            "standoff": 15
           },
           "zerolinecolor": "white",
           "zerolinewidth": 2
          }
         }
        },
        "title": {
         "text": "All Media Activity 5 months total"
        },
        "xaxis": {
         "title": {
          "text": "Username"
         }
        },
        "yaxis": {
         "title": {
          "text": "All Posts"
         }
        },
        "yaxis2": {
         "overlaying": "y",
         "side": "right",
         "title": {
          "text": "All Comments"
         }
        }
       }
      }
     },
     "metadata": {},
     "output_type": "display_data"
    },
    {
     "data": {
      "text/markdown": [
       "**->On this chart we can see: How many posts and comments has every media sources (5 months)**\n",
       "\n",
       "**Red - not verified**\n",
       "\n",
       "**Green - verified**\n",
       "\n",
       "**Orange - don't know**"
      ],
      "text/plain": [
       "<IPython.core.display.Markdown object>"
      ]
     },
     "metadata": {},
     "output_type": "display_data"
    }
   ],
   "source": [
    "Media_activity_total_5Months(Aks_groupbyPosts)"
   ]
  },
  {
   "attachments": {},
   "cell_type": "markdown",
   "metadata": {},
   "source": [
    "## -> 4. Chart \"Followers\" activity by every MediaSource"
   ]
  },
  {
   "cell_type": "code",
   "execution_count": 313,
   "metadata": {},
   "outputs": [
    {
     "data": {
      "application/vnd.plotly.v1+json": {
       "config": {
        "plotlyServerURL": "https://plot.ly"
       },
       "data": [
        {
         "marker": {
          "color": [
           "red",
           "red",
           "green",
           "red",
           "red",
           "red",
           "green",
           "red",
           "red",
           "red",
           "red",
           "red",
           "green",
           "green",
           "red",
           "red",
           "red",
           "green",
           "red",
           "red",
           "green",
           "green",
           "green",
           "red",
           "green",
           "green",
           "red",
           "orange",
           "orange",
           "orange"
          ]
         },
         "name": "Followers Count",
         "type": "bar",
         "x": [
          "wochenblick",
          "ing.milan.uhrik",
          "george.simion.unire",
          "neverforgetniki",
          "Prüfe-alles-glaube-wenig-denke-selbst",
          "shesti.elena",
          "tsoncho.ganev",
          "Sergiu.Mihalcea.PaginaOficiala",
          "ukraina.ru",
          "NuoViso.TV",
          "armadaRF",
          "RussophiliaBulgarophilia",
          "ambrusitalia",
          "russembangola",
          "unzensuriert",
          "4media.INFO",
          "RT.InoTV",
          "sputnik.france",
          "NatoAustritt",
          "wimacht",
          "tassagency",
          "mod.mil.rus",
          "nicvoiculet",
          "giorgio.bianchi.100",
          "1tvnews",
          "lentaru",
          "friedentotal",
          "without name 1",
          "group/rumenradevspasitel",
          "without name 2"
         ],
         "y": [
          77000,
          155000,
          1200000,
          93000,
          74000,
          23000,
          58000,
          126000,
          38000,
          41000,
          83000,
          40000,
          38000,
          26000,
          58000,
          137915,
          107387,
          786228,
          24392,
          262072,
          761570,
          358126,
          63460,
          107436,
          781400,
          834183,
          62416,
          43000,
          22600,
          55900
         ]
        },
        {
         "line": {
          "color": "blue"
         },
         "name": "%Comments Coverage for 5 Months",
         "type": "scatter",
         "x": [
          "wochenblick",
          "ing.milan.uhrik",
          "george.simion.unire",
          "neverforgetniki",
          "Prüfe-alles-glaube-wenig-denke-selbst",
          "shesti.elena",
          "tsoncho.ganev",
          "Sergiu.Mihalcea.PaginaOficiala",
          "ukraina.ru",
          "NuoViso.TV",
          "armadaRF",
          "RussophiliaBulgarophilia",
          "ambrusitalia",
          "russembangola",
          "unzensuriert",
          "4media.INFO",
          "RT.InoTV",
          "sputnik.france",
          "NatoAustritt",
          "wimacht",
          "tassagency",
          "mod.mil.rus",
          "nicvoiculet",
          "giorgio.bianchi.100",
          "1tvnews",
          "lentaru",
          "friedentotal",
          "without name 1",
          "group/rumenradevspasitel",
          "without name 2"
         ],
         "y": [
          0.01038961038961039,
          0.0025806451612903226,
          0.13525,
          0.0935483870967742,
          3.598648648648649,
          0.2,
          0.25,
          1.0071428571428571,
          0.39473684210526316,
          0.02682926829268293,
          0.22771084337349398,
          0.11,
          1.0105263157894737,
          2.5461538461538464,
          6.643103448275863,
          0.0007250842910488344,
          0.0027936342387812306,
          0.0038156870526106926,
          0.12299114463758609,
          0.0019078726456851552,
          0.002363538479719527,
          0.001675387991935799,
          0.02206114087614245,
          0.24758926244461818,
          0.002559508574353724,
          0,
          1.051012560881825,
          0.4232558139534884,
          1.7699115044247788,
          0.22182468694096602
         ],
         "yaxis": "y2"
        }
       ],
       "layout": {
        "template": {
         "data": {
          "bar": [
           {
            "error_x": {
             "color": "#2a3f5f"
            },
            "error_y": {
             "color": "#2a3f5f"
            },
            "marker": {
             "line": {
              "color": "#E5ECF6",
              "width": 0.5
             },
             "pattern": {
              "fillmode": "overlay",
              "size": 10,
              "solidity": 0.2
             }
            },
            "type": "bar"
           }
          ],
          "barpolar": [
           {
            "marker": {
             "line": {
              "color": "#E5ECF6",
              "width": 0.5
             },
             "pattern": {
              "fillmode": "overlay",
              "size": 10,
              "solidity": 0.2
             }
            },
            "type": "barpolar"
           }
          ],
          "carpet": [
           {
            "aaxis": {
             "endlinecolor": "#2a3f5f",
             "gridcolor": "white",
             "linecolor": "white",
             "minorgridcolor": "white",
             "startlinecolor": "#2a3f5f"
            },
            "baxis": {
             "endlinecolor": "#2a3f5f",
             "gridcolor": "white",
             "linecolor": "white",
             "minorgridcolor": "white",
             "startlinecolor": "#2a3f5f"
            },
            "type": "carpet"
           }
          ],
          "choropleth": [
           {
            "colorbar": {
             "outlinewidth": 0,
             "ticks": ""
            },
            "type": "choropleth"
           }
          ],
          "contour": [
           {
            "colorbar": {
             "outlinewidth": 0,
             "ticks": ""
            },
            "colorscale": [
             [
              0,
              "#0d0887"
             ],
             [
              0.1111111111111111,
              "#46039f"
             ],
             [
              0.2222222222222222,
              "#7201a8"
             ],
             [
              0.3333333333333333,
              "#9c179e"
             ],
             [
              0.4444444444444444,
              "#bd3786"
             ],
             [
              0.5555555555555556,
              "#d8576b"
             ],
             [
              0.6666666666666666,
              "#ed7953"
             ],
             [
              0.7777777777777778,
              "#fb9f3a"
             ],
             [
              0.8888888888888888,
              "#fdca26"
             ],
             [
              1,
              "#f0f921"
             ]
            ],
            "type": "contour"
           }
          ],
          "contourcarpet": [
           {
            "colorbar": {
             "outlinewidth": 0,
             "ticks": ""
            },
            "type": "contourcarpet"
           }
          ],
          "heatmap": [
           {
            "colorbar": {
             "outlinewidth": 0,
             "ticks": ""
            },
            "colorscale": [
             [
              0,
              "#0d0887"
             ],
             [
              0.1111111111111111,
              "#46039f"
             ],
             [
              0.2222222222222222,
              "#7201a8"
             ],
             [
              0.3333333333333333,
              "#9c179e"
             ],
             [
              0.4444444444444444,
              "#bd3786"
             ],
             [
              0.5555555555555556,
              "#d8576b"
             ],
             [
              0.6666666666666666,
              "#ed7953"
             ],
             [
              0.7777777777777778,
              "#fb9f3a"
             ],
             [
              0.8888888888888888,
              "#fdca26"
             ],
             [
              1,
              "#f0f921"
             ]
            ],
            "type": "heatmap"
           }
          ],
          "heatmapgl": [
           {
            "colorbar": {
             "outlinewidth": 0,
             "ticks": ""
            },
            "colorscale": [
             [
              0,
              "#0d0887"
             ],
             [
              0.1111111111111111,
              "#46039f"
             ],
             [
              0.2222222222222222,
              "#7201a8"
             ],
             [
              0.3333333333333333,
              "#9c179e"
             ],
             [
              0.4444444444444444,
              "#bd3786"
             ],
             [
              0.5555555555555556,
              "#d8576b"
             ],
             [
              0.6666666666666666,
              "#ed7953"
             ],
             [
              0.7777777777777778,
              "#fb9f3a"
             ],
             [
              0.8888888888888888,
              "#fdca26"
             ],
             [
              1,
              "#f0f921"
             ]
            ],
            "type": "heatmapgl"
           }
          ],
          "histogram": [
           {
            "marker": {
             "pattern": {
              "fillmode": "overlay",
              "size": 10,
              "solidity": 0.2
             }
            },
            "type": "histogram"
           }
          ],
          "histogram2d": [
           {
            "colorbar": {
             "outlinewidth": 0,
             "ticks": ""
            },
            "colorscale": [
             [
              0,
              "#0d0887"
             ],
             [
              0.1111111111111111,
              "#46039f"
             ],
             [
              0.2222222222222222,
              "#7201a8"
             ],
             [
              0.3333333333333333,
              "#9c179e"
             ],
             [
              0.4444444444444444,
              "#bd3786"
             ],
             [
              0.5555555555555556,
              "#d8576b"
             ],
             [
              0.6666666666666666,
              "#ed7953"
             ],
             [
              0.7777777777777778,
              "#fb9f3a"
             ],
             [
              0.8888888888888888,
              "#fdca26"
             ],
             [
              1,
              "#f0f921"
             ]
            ],
            "type": "histogram2d"
           }
          ],
          "histogram2dcontour": [
           {
            "colorbar": {
             "outlinewidth": 0,
             "ticks": ""
            },
            "colorscale": [
             [
              0,
              "#0d0887"
             ],
             [
              0.1111111111111111,
              "#46039f"
             ],
             [
              0.2222222222222222,
              "#7201a8"
             ],
             [
              0.3333333333333333,
              "#9c179e"
             ],
             [
              0.4444444444444444,
              "#bd3786"
             ],
             [
              0.5555555555555556,
              "#d8576b"
             ],
             [
              0.6666666666666666,
              "#ed7953"
             ],
             [
              0.7777777777777778,
              "#fb9f3a"
             ],
             [
              0.8888888888888888,
              "#fdca26"
             ],
             [
              1,
              "#f0f921"
             ]
            ],
            "type": "histogram2dcontour"
           }
          ],
          "mesh3d": [
           {
            "colorbar": {
             "outlinewidth": 0,
             "ticks": ""
            },
            "type": "mesh3d"
           }
          ],
          "parcoords": [
           {
            "line": {
             "colorbar": {
              "outlinewidth": 0,
              "ticks": ""
             }
            },
            "type": "parcoords"
           }
          ],
          "pie": [
           {
            "automargin": true,
            "type": "pie"
           }
          ],
          "scatter": [
           {
            "fillpattern": {
             "fillmode": "overlay",
             "size": 10,
             "solidity": 0.2
            },
            "type": "scatter"
           }
          ],
          "scatter3d": [
           {
            "line": {
             "colorbar": {
              "outlinewidth": 0,
              "ticks": ""
             }
            },
            "marker": {
             "colorbar": {
              "outlinewidth": 0,
              "ticks": ""
             }
            },
            "type": "scatter3d"
           }
          ],
          "scattercarpet": [
           {
            "marker": {
             "colorbar": {
              "outlinewidth": 0,
              "ticks": ""
             }
            },
            "type": "scattercarpet"
           }
          ],
          "scattergeo": [
           {
            "marker": {
             "colorbar": {
              "outlinewidth": 0,
              "ticks": ""
             }
            },
            "type": "scattergeo"
           }
          ],
          "scattergl": [
           {
            "marker": {
             "colorbar": {
              "outlinewidth": 0,
              "ticks": ""
             }
            },
            "type": "scattergl"
           }
          ],
          "scattermapbox": [
           {
            "marker": {
             "colorbar": {
              "outlinewidth": 0,
              "ticks": ""
             }
            },
            "type": "scattermapbox"
           }
          ],
          "scatterpolar": [
           {
            "marker": {
             "colorbar": {
              "outlinewidth": 0,
              "ticks": ""
             }
            },
            "type": "scatterpolar"
           }
          ],
          "scatterpolargl": [
           {
            "marker": {
             "colorbar": {
              "outlinewidth": 0,
              "ticks": ""
             }
            },
            "type": "scatterpolargl"
           }
          ],
          "scatterternary": [
           {
            "marker": {
             "colorbar": {
              "outlinewidth": 0,
              "ticks": ""
             }
            },
            "type": "scatterternary"
           }
          ],
          "surface": [
           {
            "colorbar": {
             "outlinewidth": 0,
             "ticks": ""
            },
            "colorscale": [
             [
              0,
              "#0d0887"
             ],
             [
              0.1111111111111111,
              "#46039f"
             ],
             [
              0.2222222222222222,
              "#7201a8"
             ],
             [
              0.3333333333333333,
              "#9c179e"
             ],
             [
              0.4444444444444444,
              "#bd3786"
             ],
             [
              0.5555555555555556,
              "#d8576b"
             ],
             [
              0.6666666666666666,
              "#ed7953"
             ],
             [
              0.7777777777777778,
              "#fb9f3a"
             ],
             [
              0.8888888888888888,
              "#fdca26"
             ],
             [
              1,
              "#f0f921"
             ]
            ],
            "type": "surface"
           }
          ],
          "table": [
           {
            "cells": {
             "fill": {
              "color": "#EBF0F8"
             },
             "line": {
              "color": "white"
             }
            },
            "header": {
             "fill": {
              "color": "#C8D4E3"
             },
             "line": {
              "color": "white"
             }
            },
            "type": "table"
           }
          ]
         },
         "layout": {
          "annotationdefaults": {
           "arrowcolor": "#2a3f5f",
           "arrowhead": 0,
           "arrowwidth": 1
          },
          "autotypenumbers": "strict",
          "coloraxis": {
           "colorbar": {
            "outlinewidth": 0,
            "ticks": ""
           }
          },
          "colorscale": {
           "diverging": [
            [
             0,
             "#8e0152"
            ],
            [
             0.1,
             "#c51b7d"
            ],
            [
             0.2,
             "#de77ae"
            ],
            [
             0.3,
             "#f1b6da"
            ],
            [
             0.4,
             "#fde0ef"
            ],
            [
             0.5,
             "#f7f7f7"
            ],
            [
             0.6,
             "#e6f5d0"
            ],
            [
             0.7,
             "#b8e186"
            ],
            [
             0.8,
             "#7fbc41"
            ],
            [
             0.9,
             "#4d9221"
            ],
            [
             1,
             "#276419"
            ]
           ],
           "sequential": [
            [
             0,
             "#0d0887"
            ],
            [
             0.1111111111111111,
             "#46039f"
            ],
            [
             0.2222222222222222,
             "#7201a8"
            ],
            [
             0.3333333333333333,
             "#9c179e"
            ],
            [
             0.4444444444444444,
             "#bd3786"
            ],
            [
             0.5555555555555556,
             "#d8576b"
            ],
            [
             0.6666666666666666,
             "#ed7953"
            ],
            [
             0.7777777777777778,
             "#fb9f3a"
            ],
            [
             0.8888888888888888,
             "#fdca26"
            ],
            [
             1,
             "#f0f921"
            ]
           ],
           "sequentialminus": [
            [
             0,
             "#0d0887"
            ],
            [
             0.1111111111111111,
             "#46039f"
            ],
            [
             0.2222222222222222,
             "#7201a8"
            ],
            [
             0.3333333333333333,
             "#9c179e"
            ],
            [
             0.4444444444444444,
             "#bd3786"
            ],
            [
             0.5555555555555556,
             "#d8576b"
            ],
            [
             0.6666666666666666,
             "#ed7953"
            ],
            [
             0.7777777777777778,
             "#fb9f3a"
            ],
            [
             0.8888888888888888,
             "#fdca26"
            ],
            [
             1,
             "#f0f921"
            ]
           ]
          },
          "colorway": [
           "#636efa",
           "#EF553B",
           "#00cc96",
           "#ab63fa",
           "#FFA15A",
           "#19d3f3",
           "#FF6692",
           "#B6E880",
           "#FF97FF",
           "#FECB52"
          ],
          "font": {
           "color": "#2a3f5f"
          },
          "geo": {
           "bgcolor": "white",
           "lakecolor": "white",
           "landcolor": "#E5ECF6",
           "showlakes": true,
           "showland": true,
           "subunitcolor": "white"
          },
          "hoverlabel": {
           "align": "left"
          },
          "hovermode": "closest",
          "mapbox": {
           "style": "light"
          },
          "paper_bgcolor": "white",
          "plot_bgcolor": "#E5ECF6",
          "polar": {
           "angularaxis": {
            "gridcolor": "white",
            "linecolor": "white",
            "ticks": ""
           },
           "bgcolor": "#E5ECF6",
           "radialaxis": {
            "gridcolor": "white",
            "linecolor": "white",
            "ticks": ""
           }
          },
          "scene": {
           "xaxis": {
            "backgroundcolor": "#E5ECF6",
            "gridcolor": "white",
            "gridwidth": 2,
            "linecolor": "white",
            "showbackground": true,
            "ticks": "",
            "zerolinecolor": "white"
           },
           "yaxis": {
            "backgroundcolor": "#E5ECF6",
            "gridcolor": "white",
            "gridwidth": 2,
            "linecolor": "white",
            "showbackground": true,
            "ticks": "",
            "zerolinecolor": "white"
           },
           "zaxis": {
            "backgroundcolor": "#E5ECF6",
            "gridcolor": "white",
            "gridwidth": 2,
            "linecolor": "white",
            "showbackground": true,
            "ticks": "",
            "zerolinecolor": "white"
           }
          },
          "shapedefaults": {
           "line": {
            "color": "#2a3f5f"
           }
          },
          "ternary": {
           "aaxis": {
            "gridcolor": "white",
            "linecolor": "white",
            "ticks": ""
           },
           "baxis": {
            "gridcolor": "white",
            "linecolor": "white",
            "ticks": ""
           },
           "bgcolor": "#E5ECF6",
           "caxis": {
            "gridcolor": "white",
            "linecolor": "white",
            "ticks": ""
           }
          },
          "title": {
           "x": 0.05
          },
          "xaxis": {
           "automargin": true,
           "gridcolor": "white",
           "linecolor": "white",
           "ticks": "",
           "title": {
            "standoff": 15
           },
           "zerolinecolor": "white",
           "zerolinewidth": 2
          },
          "yaxis": {
           "automargin": true,
           "gridcolor": "white",
           "linecolor": "white",
           "ticks": "",
           "title": {
            "standoff": 15
           },
           "zerolinecolor": "white",
           "zerolinewidth": 2
          }
         }
        },
        "title": {
         "text": "Audience Activity"
        },
        "xaxis": {
         "title": {
          "text": "Username"
         }
        },
        "yaxis": {
         "title": {
          "text": "Followers Count"
         }
        },
        "yaxis2": {
         "overlaying": "y",
         "side": "right",
         "title": {
          "text": "%Comments Coverage for 5 Months"
         }
        }
       }
      }
     },
     "metadata": {},
     "output_type": "display_data"
    },
    {
     "data": {
      "text/markdown": [
       "**->On this chart we can see: How many posts and which subscribers activity has every media sources (5 months)**\n",
       "\n",
       "**Red - not verified**\n",
       "\n",
       "**Green - verified**\n",
       "\n",
       "**Orange - don't know**"
      ],
      "text/plain": [
       "<IPython.core.display.Markdown object>"
      ]
     },
     "metadata": {},
     "output_type": "display_data"
    }
   ],
   "source": [
    "audience_activity(Aks_groupbyPosts)"
   ]
  },
  {
   "attachments": {},
   "cell_type": "markdown",
   "metadata": {},
   "source": [
    "## -> 5. Chart \"Sum Posts\" by every media on timeline"
   ]
  },
  {
   "cell_type": "code",
   "execution_count": 314,
   "metadata": {},
   "outputs": [
    {
     "data": {
      "application/vnd.plotly.v1+json": {
       "config": {
        "plotlyServerURL": "https://plot.ly"
       },
       "data": [
        {
         "hovertemplate": "Username: wochenblick<br>Sum Posts: {y}<br>Date: {x}",
         "line": {
          "color": "red"
         },
         "mode": "lines",
         "name": "wochenblick",
         "type": "scatter",
         "x": [
          "2023-04-24"
         ],
         "y": [
          39
         ]
        },
        {
         "hovertemplate": "Username: ing.milan.uhrik<br>Sum Posts: {y}<br>Date: {x}",
         "line": {
          "color": "red"
         },
         "mode": "lines",
         "name": "ing.milan.uhrik",
         "type": "scatter",
         "x": [
          "2023-03-13",
          "2023-03-15",
          "2023-03-16",
          "2023-03-17",
          "2023-03-19",
          "2023-03-20",
          "2023-03-22",
          "2023-03-25",
          "2023-03-26",
          "2023-03-27",
          "2023-03-30",
          "2023-03-31",
          "2023-04-02",
          "2023-04-04",
          "2023-04-06",
          "2023-04-07",
          "2023-04-09",
          "2023-04-10",
          "2023-04-12",
          "2023-04-13",
          "2023-04-15",
          "2023-04-16",
          "2023-04-17",
          "2023-04-18",
          "2023-04-19",
          "2023-04-21",
          "2023-04-22"
         ],
         "y": [
          1,
          2,
          2,
          1,
          2,
          1,
          2,
          2,
          1,
          2,
          3,
          1,
          1,
          1,
          2,
          2,
          1,
          1,
          1,
          1,
          1,
          1,
          1,
          1,
          3,
          1,
          1
         ]
        },
        {
         "hovertemplate": "Username: george.simion.unire<br>Sum Posts: {y}<br>Date: {x}",
         "line": {
          "color": "green"
         },
         "mode": "lines",
         "name": "george.simion.unire",
         "type": "scatter",
         "x": [
          "2023-03-09",
          "2023-03-10",
          "2023-03-11",
          "2023-03-12",
          "2023-03-13",
          "2023-03-14",
          "2023-03-15",
          "2023-03-16",
          "2023-03-17",
          "2023-03-20",
          "2023-03-31",
          "2023-04-02",
          "2023-04-04",
          "2023-04-05",
          "2023-04-09",
          "2023-04-11",
          "2023-04-13",
          "2023-04-16",
          "2023-04-19"
         ],
         "y": [
          3,
          4,
          2,
          1,
          5,
          4,
          6,
          2,
          1,
          1,
          1,
          1,
          1,
          2,
          1,
          1,
          1,
          1,
          1
         ]
        },
        {
         "hovertemplate": "Username: neverforgetniki<br>Sum Posts: {y}<br>Date: {x}",
         "line": {
          "color": "red"
         },
         "mode": "lines",
         "name": "neverforgetniki",
         "type": "scatter",
         "x": [
          "2023-03-31",
          "2023-04-01",
          "2023-04-02",
          "2023-04-03",
          "2023-04-04",
          "2023-04-05",
          "2023-04-06",
          "2023-04-07",
          "2023-04-08"
         ],
         "y": [
          4,
          5,
          4,
          6,
          3,
          6,
          4,
          3,
          4
         ]
        },
        {
         "hovertemplate": "Username: Prüfe-alles-glaube-wenig-denke-selbst<br>Sum Posts: {y}<br>Date: {x}",
         "line": {
          "color": "red"
         },
         "mode": "lines",
         "name": "Prüfe-alles-glaube-wenig-denke-selbst",
         "type": "scatter",
         "x": [
          "2022-12-01",
          "2022-12-09",
          "2022-12-13",
          "2022-12-14",
          "2022-12-15",
          "2022-12-18",
          "2022-12-20",
          "2022-12-22",
          "2022-12-31",
          "2023-01-02",
          "2023-01-04",
          "2023-01-27",
          "2023-01-30",
          "2023-01-31",
          "2023-02-06",
          "2023-02-07",
          "2023-02-09",
          "2023-02-15",
          "2023-02-21",
          "2023-02-22",
          "2023-03-01",
          "2023-03-03",
          "2023-03-06",
          "2023-03-08",
          "2023-03-10",
          "2023-03-15"
         ],
         "y": [
          1,
          1,
          1,
          1,
          2,
          2,
          1,
          1,
          1,
          1,
          1,
          2,
          2,
          1,
          3,
          3,
          1,
          1,
          2,
          1,
          1,
          1,
          2,
          1,
          1,
          4
         ]
        },
        {
         "hovertemplate": "Username: shesti.elena<br>Sum Posts: {y}<br>Date: {x}",
         "line": {
          "color": "red"
         },
         "mode": "lines",
         "name": "shesti.elena",
         "type": "scatter",
         "x": [
          "2023-04-19",
          "2023-04-20",
          "2023-04-21",
          "2023-04-22",
          "2023-04-23",
          "2023-04-24"
         ],
         "y": [
          3,
          9,
          6,
          6,
          8,
          7
         ]
        },
        {
         "hovertemplate": "Username: tsoncho.ganev<br>Sum Posts: {y}<br>Date: {x}",
         "line": {
          "color": "green"
         },
         "mode": "lines",
         "name": "tsoncho.ganev",
         "type": "scatter",
         "x": [
          "2023-04-15",
          "2023-04-16",
          "2023-04-17",
          "2023-04-18",
          "2023-04-19",
          "2023-04-20",
          "2023-04-21",
          "2023-04-22",
          "2023-04-23",
          "2023-04-24"
         ],
         "y": [
          2,
          6,
          6,
          6,
          3,
          3,
          3,
          3,
          6,
          1
         ]
        },
        {
         "hovertemplate": "Username: Sergiu.Mihalcea.PaginaOficiala<br>Sum Posts: {y}<br>Date: {x}",
         "line": {
          "color": "red"
         },
         "mode": "lines",
         "name": "Sergiu.Mihalcea.PaginaOficiala",
         "type": "scatter",
         "x": [
          "2023-04-23",
          "2023-04-24"
         ],
         "y": [
          18,
          21
         ]
        },
        {
         "hovertemplate": "Username: ukraina.ru<br>Sum Posts: {y}<br>Date: {x}",
         "line": {
          "color": "red"
         },
         "mode": "lines",
         "name": "ukraina.ru",
         "type": "scatter",
         "x": [
          "2023-02-25",
          "2023-03-02",
          "2023-03-03",
          "2023-03-08",
          "2023-03-10",
          "2023-03-11",
          "2023-03-12",
          "2023-03-13",
          "2023-03-14",
          "2023-03-15",
          "2023-03-17",
          "2023-03-20",
          "2023-03-22",
          "2023-03-25",
          "2023-03-26",
          "2023-03-27",
          "2023-03-29",
          "2023-03-30",
          "2023-04-01",
          "2023-04-02",
          "2023-04-03",
          "2023-04-04",
          "2023-04-05",
          "2023-04-06",
          "2023-04-07",
          "2023-04-15",
          "2023-04-22",
          "2023-04-23"
         ],
         "y": [
          2,
          1,
          1,
          1,
          1,
          2,
          1,
          2,
          1,
          2,
          3,
          1,
          2,
          1,
          1,
          3,
          1,
          1,
          1,
          1,
          1,
          2,
          2,
          1,
          1,
          1,
          1,
          1
         ]
        },
        {
         "hovertemplate": "Username: NuoViso.TV<br>Sum Posts: {y}<br>Date: {x}",
         "line": {
          "color": "red"
         },
         "mode": "lines",
         "name": "NuoViso.TV",
         "type": "scatter",
         "x": [
          "2023-04-20",
          "2023-04-21",
          "2023-04-22",
          "2023-04-23",
          "2023-04-24"
         ],
         "y": [
          15,
          5,
          7,
          10,
          2
         ]
        },
        {
         "hovertemplate": "Username: armadaRF<br>Sum Posts: {y}<br>Date: {x}",
         "line": {
          "color": "red"
         },
         "mode": "lines",
         "name": "armadaRF",
         "type": "scatter",
         "x": [
          "2023-04-23",
          "2023-04-24"
         ],
         "y": [
          20,
          19
         ]
        },
        {
         "hovertemplate": "Username: RussophiliaBulgarophilia<br>Sum Posts: {y}<br>Date: {x}",
         "line": {
          "color": "red"
         },
         "mode": "lines",
         "name": "RussophiliaBulgarophilia",
         "type": "scatter",
         "x": [
          "2023-04-05",
          "2023-04-06",
          "2023-04-07",
          "2023-04-09",
          "2023-04-10",
          "2023-04-11",
          "2023-04-12",
          "2023-04-13",
          "2023-04-14",
          "2023-04-15",
          "2023-04-17",
          "2023-04-19",
          "2023-04-20",
          "2023-04-21",
          "2023-04-22",
          "2023-04-23",
          "2023-04-24"
         ],
         "y": [
          2,
          4,
          3,
          5,
          3,
          2,
          1,
          3,
          3,
          1,
          1,
          5,
          1,
          1,
          1,
          2,
          1
         ]
        },
        {
         "hovertemplate": "Username: ambrusitalia<br>Sum Posts: {y}<br>Date: {x}",
         "line": {
          "color": "green"
         },
         "mode": "lines",
         "name": "ambrusitalia",
         "type": "scatter",
         "x": [
          "2023-04-22",
          "2023-04-23",
          "2023-04-24"
         ],
         "y": [
          11,
          14,
          14
         ]
        },
        {
         "hovertemplate": "Username: russembangola<br>Sum Posts: {y}<br>Date: {x}",
         "line": {
          "color": "green"
         },
         "mode": "lines",
         "name": "russembangola",
         "type": "scatter",
         "x": [
          "2023-04-23",
          "2023-04-24"
         ],
         "y": [
          21,
          18
         ]
        },
        {
         "hovertemplate": "Username: unzensuriert<br>Sum Posts: {y}<br>Date: {x}",
         "line": {
          "color": "red"
         },
         "mode": "lines",
         "name": "unzensuriert",
         "type": "scatter",
         "x": [
          "2022-12-17",
          "2022-12-22",
          "2022-12-24",
          "2022-12-25",
          "2022-12-26",
          "2022-12-27",
          "2022-12-29",
          "2022-12-31",
          "2023-01-05",
          "2023-01-06",
          "2023-01-12",
          "2023-01-23",
          "2023-01-24",
          "2023-01-26",
          "2023-01-31",
          "2023-02-05",
          "2023-02-06",
          "2023-02-07",
          "2023-02-18",
          "2023-02-22",
          "2023-02-27",
          "2023-03-01",
          "2023-03-06",
          "2023-03-10",
          "2023-03-15",
          "2023-03-18",
          "2023-03-20",
          "2023-03-21",
          "2023-03-28",
          "2023-04-01",
          "2023-04-04",
          "2023-04-08",
          "2023-04-10",
          "2023-04-11",
          "2023-04-15",
          "2023-04-19",
          "2023-04-20",
          "2023-04-21"
         ],
         "y": [
          1,
          1,
          1,
          1,
          1,
          1,
          1,
          1,
          1,
          1,
          1,
          1,
          1,
          1,
          1,
          1,
          1,
          1,
          1,
          1,
          1,
          1,
          1,
          1,
          1,
          2,
          1,
          1,
          1,
          1,
          1,
          1,
          1,
          1,
          1,
          1,
          1,
          1
         ]
        },
        {
         "hovertemplate": "Username: 4media.INFO<br>Sum Posts: {y}<br>Date: {x}",
         "line": {
          "color": "red"
         },
         "mode": "lines",
         "name": "4media.INFO",
         "type": "scatter",
         "x": [
          "2023-04-19",
          "2023-04-20",
          "2023-04-21",
          "2023-04-22",
          "2023-04-23",
          "2023-04-24"
         ],
         "y": [
          1,
          14,
          15,
          5,
          3,
          1
         ]
        },
        {
         "hovertemplate": "Username: RT.InoTV<br>Sum Posts: {y}<br>Date: {x}",
         "line": {
          "color": "red"
         },
         "mode": "lines",
         "name": "RT.InoTV",
         "type": "scatter",
         "x": [
          "2023-04-16",
          "2023-04-17",
          "2023-04-18",
          "2023-04-19",
          "2023-04-20",
          "2023-04-21",
          "2023-04-22",
          "2023-04-23",
          "2023-04-24"
         ],
         "y": [
          1,
          2,
          2,
          2,
          1,
          14,
          14,
          2,
          1
         ]
        },
        {
         "hovertemplate": "Username: sputnik.france<br>Sum Posts: {y}<br>Date: {x}",
         "line": {
          "color": "green"
         },
         "mode": "lines",
         "name": "sputnik.france",
         "type": "scatter",
         "x": [
          "2023-01-26",
          "2023-02-02",
          "2023-03-22",
          "2023-03-23",
          "2023-03-24",
          "2023-03-25",
          "2023-03-27",
          "2023-03-28",
          "2023-04-04",
          "2023-04-05"
         ],
         "y": [
          1,
          2,
          5,
          8,
          8,
          3,
          3,
          1,
          5,
          3
         ]
        },
        {
         "hovertemplate": "Username: NatoAustritt<br>Sum Posts: {y}<br>Date: {x}",
         "line": {
          "color": "red"
         },
         "mode": "lines",
         "name": "NatoAustritt",
         "type": "scatter",
         "x": [
          "2023-04-18",
          "2023-04-19",
          "2023-04-20",
          "2023-04-21",
          "2023-04-22",
          "2023-04-23",
          "2023-04-24"
         ],
         "y": [
          7,
          5,
          10,
          9,
          3,
          2,
          3
         ]
        },
        {
         "hovertemplate": "Username: wimacht<br>Sum Posts: {y}<br>Date: {x}",
         "line": {
          "color": "red"
         },
         "mode": "lines",
         "name": "wimacht",
         "type": "scatter",
         "x": [
          "2023-04-17",
          "2023-04-18",
          "2023-04-19",
          "2023-04-20",
          "2023-04-21",
          "2023-04-22",
          "2023-04-23"
         ],
         "y": [
          6,
          5,
          5,
          9,
          6,
          1,
          7
         ]
        },
        {
         "hovertemplate": "Username: tassagency<br>Sum Posts: {y}<br>Date: {x}",
         "line": {
          "color": "green"
         },
         "mode": "lines",
         "name": "tassagency",
         "type": "scatter",
         "x": [
          "2023-04-22",
          "2023-04-23",
          "2023-04-24"
         ],
         "y": [
          3,
          19,
          17
         ]
        },
        {
         "hovertemplate": "Username: mod.mil.rus<br>Sum Posts: {y}<br>Date: {x}",
         "line": {
          "color": "green"
         },
         "mode": "lines",
         "name": "mod.mil.rus",
         "type": "scatter",
         "x": [
          "2023-03-21",
          "2023-04-22",
          "2023-04-23",
          "2023-04-24"
         ],
         "y": [
          1,
          11,
          15,
          12
         ]
        },
        {
         "hovertemplate": "Username: nicvoiculet<br>Sum Posts: {y}<br>Date: {x}",
         "line": {
          "color": "green"
         },
         "mode": "lines",
         "name": "nicvoiculet",
         "type": "scatter",
         "x": [
          "2023-04-22",
          "2023-04-23",
          "2023-04-24"
         ],
         "y": [
          5,
          26,
          8
         ]
        },
        {
         "hovertemplate": "Username: giorgio.bianchi.100<br>Sum Posts: {y}<br>Date: {x}",
         "line": {
          "color": "red"
         },
         "mode": "lines",
         "name": "giorgio.bianchi.100",
         "type": "scatter",
         "x": [
          "2023-04-18",
          "2023-04-19",
          "2023-04-20",
          "2023-04-21",
          "2023-04-22",
          "2023-04-23",
          "2023-04-24"
         ],
         "y": [
          3,
          4,
          9,
          9,
          1,
          4,
          9
         ]
        },
        {
         "hovertemplate": "Username: 1tvnews<br>Sum Posts: {y}<br>Date: {x}",
         "line": {
          "color": "green"
         },
         "mode": "lines",
         "name": "1tvnews",
         "type": "scatter",
         "x": [
          "2023-04-17",
          "2023-04-18",
          "2023-04-19",
          "2023-04-20",
          "2023-04-21",
          "2023-04-22",
          "2023-04-23",
          "2023-04-24"
         ],
         "y": [
          2,
          6,
          7,
          6,
          8,
          3,
          5,
          2
         ]
        },
        {
         "hovertemplate": "Username: lentaru<br>Sum Posts: {y}<br>Date: {x}",
         "line": {
          "color": "green"
         },
         "mode": "lines",
         "name": "lentaru",
         "type": "scatter",
         "x": [
          "2022-12-01",
          "2022-12-25",
          "2023-01-02",
          "2023-01-05",
          "2023-01-10",
          "2023-02-06",
          "2023-04-07"
         ],
         "y": [
          1,
          1,
          1,
          1,
          1,
          1,
          1
         ]
        },
        {
         "hovertemplate": "Username: friedentotal<br>Sum Posts: {y}<br>Date: {x}",
         "line": {
          "color": "red"
         },
         "mode": "lines",
         "name": "friedentotal",
         "type": "scatter",
         "x": [
          "2022-12-01",
          "2022-12-22",
          "2023-01-12",
          "2023-01-19",
          "2023-02-09",
          "2023-02-16",
          "2023-02-18",
          "2023-02-23",
          "2023-02-25",
          "2023-03-02",
          "2023-03-16",
          "2023-03-23",
          "2023-03-30",
          "2023-04-13",
          "2023-04-24"
         ],
         "y": [
          1,
          1,
          1,
          1,
          1,
          1,
          1,
          1,
          1,
          1,
          1,
          1,
          1,
          1,
          25
         ]
        },
        {
         "hovertemplate": "Username: 6001<br>Sum Posts: {y}<br>Date: {x}",
         "line": {
          "color": "orange"
         },
         "mode": "lines",
         "name": "6001",
         "type": "scatter",
         "x": [
          "2022-12-23",
          "2023-01-11",
          "2023-02-25",
          "2023-03-13",
          "2023-03-14",
          "2023-03-15",
          "2023-03-16",
          "2023-03-17",
          "2023-03-18",
          "2023-03-19",
          "2023-03-20",
          "2023-03-21"
         ],
         "y": [
          1,
          1,
          1,
          4,
          8,
          3,
          6,
          3,
          6,
          2,
          1,
          3
         ]
        },
        {
         "hovertemplate": "Username: group/rumenradevspasitel<br>Sum Posts: {y}<br>Date: {x}",
         "line": {
          "color": "orange"
         },
         "mode": "lines",
         "name": "group/rumenradevspasitel",
         "type": "scatter",
         "x": [
          "2022-12-14",
          "2023-01-12",
          "2023-01-14",
          "2023-01-22",
          "2023-01-23",
          "2023-01-24",
          "2023-02-01",
          "2023-02-02",
          "2023-02-03",
          "2023-02-06",
          "2023-02-07",
          "2023-02-17",
          "2023-02-22",
          "2023-02-24",
          "2023-02-28",
          "2023-03-01",
          "2023-03-02",
          "2023-03-03",
          "2023-03-04",
          "2023-03-09",
          "2023-03-16",
          "2023-03-21",
          "2023-03-28",
          "2023-04-06",
          "2023-04-09",
          "2023-04-12",
          "2023-04-15",
          "2023-04-16",
          "2023-04-17",
          "2023-04-20",
          "2023-04-22"
         ],
         "y": [
          1,
          1,
          1,
          1,
          2,
          1,
          3,
          2,
          2,
          2,
          1,
          1,
          1,
          1,
          1,
          1,
          1,
          1,
          1,
          1,
          1,
          1,
          1,
          2,
          2,
          1,
          1,
          1,
          1,
          1,
          1
         ]
        },
        {
         "hovertemplate": "Username: 5808<br>Sum Posts: {y}<br>Date: {x}",
         "line": {
          "color": "orange"
         },
         "mode": "lines",
         "name": "5808",
         "type": "scatter",
         "x": [
          "2023-04-24"
         ],
         "y": [
          39
         ]
        }
       ],
       "layout": {
        "annotations": [
         {
          "font": {
           "size": 15
          },
          "showarrow": false,
          "text": "Colors:",
          "x": 1.05,
          "xref": "paper",
          "y": 1,
          "yref": "paper"
         },
         {
          "showarrow": false,
          "text": "Verified: Green",
          "x": 1.05,
          "xref": "paper",
          "y": 0.9,
          "yref": "paper"
         },
         {
          "showarrow": false,
          "text": "Not Verified: Red",
          "x": 1.05,
          "xref": "paper",
          "y": 0.8,
          "yref": "paper"
         },
         {
          "showarrow": false,
          "text": "Unknown: Orange",
          "x": 1.05,
          "xref": "paper",
          "y": 0.7,
          "yref": "paper"
         }
        ],
        "template": {
         "data": {
          "bar": [
           {
            "error_x": {
             "color": "#2a3f5f"
            },
            "error_y": {
             "color": "#2a3f5f"
            },
            "marker": {
             "line": {
              "color": "#E5ECF6",
              "width": 0.5
             },
             "pattern": {
              "fillmode": "overlay",
              "size": 10,
              "solidity": 0.2
             }
            },
            "type": "bar"
           }
          ],
          "barpolar": [
           {
            "marker": {
             "line": {
              "color": "#E5ECF6",
              "width": 0.5
             },
             "pattern": {
              "fillmode": "overlay",
              "size": 10,
              "solidity": 0.2
             }
            },
            "type": "barpolar"
           }
          ],
          "carpet": [
           {
            "aaxis": {
             "endlinecolor": "#2a3f5f",
             "gridcolor": "white",
             "linecolor": "white",
             "minorgridcolor": "white",
             "startlinecolor": "#2a3f5f"
            },
            "baxis": {
             "endlinecolor": "#2a3f5f",
             "gridcolor": "white",
             "linecolor": "white",
             "minorgridcolor": "white",
             "startlinecolor": "#2a3f5f"
            },
            "type": "carpet"
           }
          ],
          "choropleth": [
           {
            "colorbar": {
             "outlinewidth": 0,
             "ticks": ""
            },
            "type": "choropleth"
           }
          ],
          "contour": [
           {
            "colorbar": {
             "outlinewidth": 0,
             "ticks": ""
            },
            "colorscale": [
             [
              0,
              "#0d0887"
             ],
             [
              0.1111111111111111,
              "#46039f"
             ],
             [
              0.2222222222222222,
              "#7201a8"
             ],
             [
              0.3333333333333333,
              "#9c179e"
             ],
             [
              0.4444444444444444,
              "#bd3786"
             ],
             [
              0.5555555555555556,
              "#d8576b"
             ],
             [
              0.6666666666666666,
              "#ed7953"
             ],
             [
              0.7777777777777778,
              "#fb9f3a"
             ],
             [
              0.8888888888888888,
              "#fdca26"
             ],
             [
              1,
              "#f0f921"
             ]
            ],
            "type": "contour"
           }
          ],
          "contourcarpet": [
           {
            "colorbar": {
             "outlinewidth": 0,
             "ticks": ""
            },
            "type": "contourcarpet"
           }
          ],
          "heatmap": [
           {
            "colorbar": {
             "outlinewidth": 0,
             "ticks": ""
            },
            "colorscale": [
             [
              0,
              "#0d0887"
             ],
             [
              0.1111111111111111,
              "#46039f"
             ],
             [
              0.2222222222222222,
              "#7201a8"
             ],
             [
              0.3333333333333333,
              "#9c179e"
             ],
             [
              0.4444444444444444,
              "#bd3786"
             ],
             [
              0.5555555555555556,
              "#d8576b"
             ],
             [
              0.6666666666666666,
              "#ed7953"
             ],
             [
              0.7777777777777778,
              "#fb9f3a"
             ],
             [
              0.8888888888888888,
              "#fdca26"
             ],
             [
              1,
              "#f0f921"
             ]
            ],
            "type": "heatmap"
           }
          ],
          "heatmapgl": [
           {
            "colorbar": {
             "outlinewidth": 0,
             "ticks": ""
            },
            "colorscale": [
             [
              0,
              "#0d0887"
             ],
             [
              0.1111111111111111,
              "#46039f"
             ],
             [
              0.2222222222222222,
              "#7201a8"
             ],
             [
              0.3333333333333333,
              "#9c179e"
             ],
             [
              0.4444444444444444,
              "#bd3786"
             ],
             [
              0.5555555555555556,
              "#d8576b"
             ],
             [
              0.6666666666666666,
              "#ed7953"
             ],
             [
              0.7777777777777778,
              "#fb9f3a"
             ],
             [
              0.8888888888888888,
              "#fdca26"
             ],
             [
              1,
              "#f0f921"
             ]
            ],
            "type": "heatmapgl"
           }
          ],
          "histogram": [
           {
            "marker": {
             "pattern": {
              "fillmode": "overlay",
              "size": 10,
              "solidity": 0.2
             }
            },
            "type": "histogram"
           }
          ],
          "histogram2d": [
           {
            "colorbar": {
             "outlinewidth": 0,
             "ticks": ""
            },
            "colorscale": [
             [
              0,
              "#0d0887"
             ],
             [
              0.1111111111111111,
              "#46039f"
             ],
             [
              0.2222222222222222,
              "#7201a8"
             ],
             [
              0.3333333333333333,
              "#9c179e"
             ],
             [
              0.4444444444444444,
              "#bd3786"
             ],
             [
              0.5555555555555556,
              "#d8576b"
             ],
             [
              0.6666666666666666,
              "#ed7953"
             ],
             [
              0.7777777777777778,
              "#fb9f3a"
             ],
             [
              0.8888888888888888,
              "#fdca26"
             ],
             [
              1,
              "#f0f921"
             ]
            ],
            "type": "histogram2d"
           }
          ],
          "histogram2dcontour": [
           {
            "colorbar": {
             "outlinewidth": 0,
             "ticks": ""
            },
            "colorscale": [
             [
              0,
              "#0d0887"
             ],
             [
              0.1111111111111111,
              "#46039f"
             ],
             [
              0.2222222222222222,
              "#7201a8"
             ],
             [
              0.3333333333333333,
              "#9c179e"
             ],
             [
              0.4444444444444444,
              "#bd3786"
             ],
             [
              0.5555555555555556,
              "#d8576b"
             ],
             [
              0.6666666666666666,
              "#ed7953"
             ],
             [
              0.7777777777777778,
              "#fb9f3a"
             ],
             [
              0.8888888888888888,
              "#fdca26"
             ],
             [
              1,
              "#f0f921"
             ]
            ],
            "type": "histogram2dcontour"
           }
          ],
          "mesh3d": [
           {
            "colorbar": {
             "outlinewidth": 0,
             "ticks": ""
            },
            "type": "mesh3d"
           }
          ],
          "parcoords": [
           {
            "line": {
             "colorbar": {
              "outlinewidth": 0,
              "ticks": ""
             }
            },
            "type": "parcoords"
           }
          ],
          "pie": [
           {
            "automargin": true,
            "type": "pie"
           }
          ],
          "scatter": [
           {
            "fillpattern": {
             "fillmode": "overlay",
             "size": 10,
             "solidity": 0.2
            },
            "type": "scatter"
           }
          ],
          "scatter3d": [
           {
            "line": {
             "colorbar": {
              "outlinewidth": 0,
              "ticks": ""
             }
            },
            "marker": {
             "colorbar": {
              "outlinewidth": 0,
              "ticks": ""
             }
            },
            "type": "scatter3d"
           }
          ],
          "scattercarpet": [
           {
            "marker": {
             "colorbar": {
              "outlinewidth": 0,
              "ticks": ""
             }
            },
            "type": "scattercarpet"
           }
          ],
          "scattergeo": [
           {
            "marker": {
             "colorbar": {
              "outlinewidth": 0,
              "ticks": ""
             }
            },
            "type": "scattergeo"
           }
          ],
          "scattergl": [
           {
            "marker": {
             "colorbar": {
              "outlinewidth": 0,
              "ticks": ""
             }
            },
            "type": "scattergl"
           }
          ],
          "scattermapbox": [
           {
            "marker": {
             "colorbar": {
              "outlinewidth": 0,
              "ticks": ""
             }
            },
            "type": "scattermapbox"
           }
          ],
          "scatterpolar": [
           {
            "marker": {
             "colorbar": {
              "outlinewidth": 0,
              "ticks": ""
             }
            },
            "type": "scatterpolar"
           }
          ],
          "scatterpolargl": [
           {
            "marker": {
             "colorbar": {
              "outlinewidth": 0,
              "ticks": ""
             }
            },
            "type": "scatterpolargl"
           }
          ],
          "scatterternary": [
           {
            "marker": {
             "colorbar": {
              "outlinewidth": 0,
              "ticks": ""
             }
            },
            "type": "scatterternary"
           }
          ],
          "surface": [
           {
            "colorbar": {
             "outlinewidth": 0,
             "ticks": ""
            },
            "colorscale": [
             [
              0,
              "#0d0887"
             ],
             [
              0.1111111111111111,
              "#46039f"
             ],
             [
              0.2222222222222222,
              "#7201a8"
             ],
             [
              0.3333333333333333,
              "#9c179e"
             ],
             [
              0.4444444444444444,
              "#bd3786"
             ],
             [
              0.5555555555555556,
              "#d8576b"
             ],
             [
              0.6666666666666666,
              "#ed7953"
             ],
             [
              0.7777777777777778,
              "#fb9f3a"
             ],
             [
              0.8888888888888888,
              "#fdca26"
             ],
             [
              1,
              "#f0f921"
             ]
            ],
            "type": "surface"
           }
          ],
          "table": [
           {
            "cells": {
             "fill": {
              "color": "#EBF0F8"
             },
             "line": {
              "color": "white"
             }
            },
            "header": {
             "fill": {
              "color": "#C8D4E3"
             },
             "line": {
              "color": "white"
             }
            },
            "type": "table"
           }
          ]
         },
         "layout": {
          "annotationdefaults": {
           "arrowcolor": "#2a3f5f",
           "arrowhead": 0,
           "arrowwidth": 1
          },
          "autotypenumbers": "strict",
          "coloraxis": {
           "colorbar": {
            "outlinewidth": 0,
            "ticks": ""
           }
          },
          "colorscale": {
           "diverging": [
            [
             0,
             "#8e0152"
            ],
            [
             0.1,
             "#c51b7d"
            ],
            [
             0.2,
             "#de77ae"
            ],
            [
             0.3,
             "#f1b6da"
            ],
            [
             0.4,
             "#fde0ef"
            ],
            [
             0.5,
             "#f7f7f7"
            ],
            [
             0.6,
             "#e6f5d0"
            ],
            [
             0.7,
             "#b8e186"
            ],
            [
             0.8,
             "#7fbc41"
            ],
            [
             0.9,
             "#4d9221"
            ],
            [
             1,
             "#276419"
            ]
           ],
           "sequential": [
            [
             0,
             "#0d0887"
            ],
            [
             0.1111111111111111,
             "#46039f"
            ],
            [
             0.2222222222222222,
             "#7201a8"
            ],
            [
             0.3333333333333333,
             "#9c179e"
            ],
            [
             0.4444444444444444,
             "#bd3786"
            ],
            [
             0.5555555555555556,
             "#d8576b"
            ],
            [
             0.6666666666666666,
             "#ed7953"
            ],
            [
             0.7777777777777778,
             "#fb9f3a"
            ],
            [
             0.8888888888888888,
             "#fdca26"
            ],
            [
             1,
             "#f0f921"
            ]
           ],
           "sequentialminus": [
            [
             0,
             "#0d0887"
            ],
            [
             0.1111111111111111,
             "#46039f"
            ],
            [
             0.2222222222222222,
             "#7201a8"
            ],
            [
             0.3333333333333333,
             "#9c179e"
            ],
            [
             0.4444444444444444,
             "#bd3786"
            ],
            [
             0.5555555555555556,
             "#d8576b"
            ],
            [
             0.6666666666666666,
             "#ed7953"
            ],
            [
             0.7777777777777778,
             "#fb9f3a"
            ],
            [
             0.8888888888888888,
             "#fdca26"
            ],
            [
             1,
             "#f0f921"
            ]
           ]
          },
          "colorway": [
           "#636efa",
           "#EF553B",
           "#00cc96",
           "#ab63fa",
           "#FFA15A",
           "#19d3f3",
           "#FF6692",
           "#B6E880",
           "#FF97FF",
           "#FECB52"
          ],
          "font": {
           "color": "#2a3f5f"
          },
          "geo": {
           "bgcolor": "white",
           "lakecolor": "white",
           "landcolor": "#E5ECF6",
           "showlakes": true,
           "showland": true,
           "subunitcolor": "white"
          },
          "hoverlabel": {
           "align": "left"
          },
          "hovermode": "closest",
          "mapbox": {
           "style": "light"
          },
          "paper_bgcolor": "white",
          "plot_bgcolor": "#E5ECF6",
          "polar": {
           "angularaxis": {
            "gridcolor": "white",
            "linecolor": "white",
            "ticks": ""
           },
           "bgcolor": "#E5ECF6",
           "radialaxis": {
            "gridcolor": "white",
            "linecolor": "white",
            "ticks": ""
           }
          },
          "scene": {
           "xaxis": {
            "backgroundcolor": "#E5ECF6",
            "gridcolor": "white",
            "gridwidth": 2,
            "linecolor": "white",
            "showbackground": true,
            "ticks": "",
            "zerolinecolor": "white"
           },
           "yaxis": {
            "backgroundcolor": "#E5ECF6",
            "gridcolor": "white",
            "gridwidth": 2,
            "linecolor": "white",
            "showbackground": true,
            "ticks": "",
            "zerolinecolor": "white"
           },
           "zaxis": {
            "backgroundcolor": "#E5ECF6",
            "gridcolor": "white",
            "gridwidth": 2,
            "linecolor": "white",
            "showbackground": true,
            "ticks": "",
            "zerolinecolor": "white"
           }
          },
          "shapedefaults": {
           "line": {
            "color": "#2a3f5f"
           }
          },
          "ternary": {
           "aaxis": {
            "gridcolor": "white",
            "linecolor": "white",
            "ticks": ""
           },
           "baxis": {
            "gridcolor": "white",
            "linecolor": "white",
            "ticks": ""
           },
           "bgcolor": "#E5ECF6",
           "caxis": {
            "gridcolor": "white",
            "linecolor": "white",
            "ticks": ""
           }
          },
          "title": {
           "x": 0.05
          },
          "xaxis": {
           "automargin": true,
           "gridcolor": "white",
           "linecolor": "white",
           "ticks": "",
           "title": {
            "standoff": 15
           },
           "zerolinecolor": "white",
           "zerolinewidth": 2
          },
          "yaxis": {
           "automargin": true,
           "gridcolor": "white",
           "linecolor": "white",
           "ticks": "",
           "title": {
            "standoff": 15
           },
           "zerolinecolor": "white",
           "zerolinewidth": 2
          }
         }
        },
        "title": {
         "text": "sum posts on period line divided by media sources"
        }
       }
      }
     },
     "metadata": {},
     "output_type": "display_data"
    },
    {
     "data": {
      "text/markdown": [
       "**On chart we can see sum posts on period line divided by media sources.**\n",
       "\n",
       "**Red - not verified**\n",
       "\n",
       "**Green - verified**\n",
       "\n",
       "**Orange - don't know**\n",
       "\n",
       "**But on this chart hard to see something**"
      ],
      "text/plain": [
       "<IPython.core.display.Markdown object>"
      ]
     },
     "metadata": {},
     "output_type": "display_data"
    }
   ],
   "source": [
    "SumPosts_OnPeriod_Divided_byMedia(Aks_groupbyPosts_periods)"
   ]
  },
  {
   "attachments": {},
   "cell_type": "markdown",
   "metadata": {},
   "source": [
    "## -> 6. Chart \"Sum comments\" by every media on timeline"
   ]
  },
  {
   "cell_type": "code",
   "execution_count": 315,
   "metadata": {},
   "outputs": [
    {
     "data": {
      "application/vnd.plotly.v1+json": {
       "config": {
        "plotlyServerURL": "https://plot.ly"
       },
       "data": [
        {
         "hovertemplate": "Username: wochenblick<br>Sum Posts: {y}Date: {x}",
         "line": {
          "color": "red"
         },
         "mode": "lines",
         "name": "wochenblick",
         "type": "scatter",
         "x": [
          "2023-04-24"
         ],
         "y": [
          8
         ]
        },
        {
         "hovertemplate": "Username: ing.milan.uhrik<br>Sum Posts: {y}Date: {x}",
         "line": {
          "color": "red"
         },
         "mode": "lines",
         "name": "ing.milan.uhrik",
         "type": "scatter",
         "x": [
          "2023-03-13",
          "2023-03-15",
          "2023-03-16",
          "2023-03-17",
          "2023-03-19",
          "2023-03-20",
          "2023-03-22",
          "2023-03-25",
          "2023-03-26",
          "2023-03-27",
          "2023-03-30",
          "2023-03-31",
          "2023-04-02",
          "2023-04-04",
          "2023-04-06",
          "2023-04-07",
          "2023-04-09",
          "2023-04-10",
          "2023-04-12",
          "2023-04-13",
          "2023-04-15",
          "2023-04-16",
          "2023-04-17",
          "2023-04-18",
          "2023-04-19",
          "2023-04-21",
          "2023-04-22"
         ],
         "y": [
          0,
          0,
          0,
          0,
          0,
          0,
          1,
          0,
          0,
          1,
          0,
          0,
          1,
          0,
          0,
          0,
          0,
          0,
          0,
          0,
          0,
          0,
          0,
          1,
          0,
          0,
          0
         ]
        },
        {
         "hovertemplate": "Username: george.simion.unire<br>Sum Posts: {y}Date: {x}",
         "line": {
          "color": "green"
         },
         "mode": "lines",
         "name": "george.simion.unire",
         "type": "scatter",
         "x": [
          "2023-03-09",
          "2023-03-10",
          "2023-03-11",
          "2023-03-12",
          "2023-03-13",
          "2023-03-14",
          "2023-03-15",
          "2023-03-16",
          "2023-03-17",
          "2023-03-20",
          "2023-03-31",
          "2023-04-02",
          "2023-04-04",
          "2023-04-05",
          "2023-04-09",
          "2023-04-11",
          "2023-04-13",
          "2023-04-16",
          "2023-04-19"
         ],
         "y": [
          205,
          105,
          224,
          48,
          274,
          81,
          264,
          186,
          41,
          1,
          15,
          8,
          77,
          35,
          15,
          8,
          15,
          10,
          11
         ]
        },
        {
         "hovertemplate": "Username: neverforgetniki<br>Sum Posts: {y}Date: {x}",
         "line": {
          "color": "red"
         },
         "mode": "lines",
         "name": "neverforgetniki",
         "type": "scatter",
         "x": [
          "2023-03-31",
          "2023-04-01",
          "2023-04-02",
          "2023-04-03",
          "2023-04-04",
          "2023-04-05",
          "2023-04-06",
          "2023-04-07",
          "2023-04-08"
         ],
         "y": [
          10,
          16,
          5,
          9,
          8,
          8,
          12,
          12,
          7
         ]
        },
        {
         "hovertemplate": "Username: Prüfe-alles-glaube-wenig-denke-selbst<br>Sum Posts: {y}Date: {x}",
         "line": {
          "color": "red"
         },
         "mode": "lines",
         "name": "Prüfe-alles-glaube-wenig-denke-selbst",
         "type": "scatter",
         "x": [
          "2022-12-01",
          "2022-12-09",
          "2022-12-13",
          "2022-12-14",
          "2022-12-15",
          "2022-12-18",
          "2022-12-20",
          "2022-12-22",
          "2022-12-31",
          "2023-01-02",
          "2023-01-04",
          "2023-01-27",
          "2023-01-30",
          "2023-01-31",
          "2023-02-06",
          "2023-02-07",
          "2023-02-09",
          "2023-02-15",
          "2023-02-21",
          "2023-02-22",
          "2023-03-01",
          "2023-03-03",
          "2023-03-06",
          "2023-03-08",
          "2023-03-10",
          "2023-03-15"
         ],
         "y": [
          46,
          80,
          33,
          24,
          131,
          55,
          18,
          173,
          405,
          31,
          21,
          60,
          123,
          83,
          290,
          167,
          45,
          26,
          475,
          30,
          118,
          45,
          83,
          52,
          29,
          20
         ]
        },
        {
         "hovertemplate": "Username: shesti.elena<br>Sum Posts: {y}Date: {x}",
         "line": {
          "color": "red"
         },
         "mode": "lines",
         "name": "shesti.elena",
         "type": "scatter",
         "x": [
          "2023-04-19",
          "2023-04-20",
          "2023-04-21",
          "2023-04-22",
          "2023-04-23",
          "2023-04-24"
         ],
         "y": [
          0,
          10,
          1,
          11,
          16,
          8
         ]
        },
        {
         "hovertemplate": "Username: tsoncho.ganev<br>Sum Posts: {y}Date: {x}",
         "line": {
          "color": "green"
         },
         "mode": "lines",
         "name": "tsoncho.ganev",
         "type": "scatter",
         "x": [
          "2023-04-15",
          "2023-04-16",
          "2023-04-17",
          "2023-04-18",
          "2023-04-19",
          "2023-04-20",
          "2023-04-21",
          "2023-04-22",
          "2023-04-23",
          "2023-04-24"
         ],
         "y": [
          5,
          51,
          50,
          19,
          11,
          2,
          4,
          1,
          1,
          1
         ]
        },
        {
         "hovertemplate": "Username: Sergiu.Mihalcea.PaginaOficiala<br>Sum Posts: {y}Date: {x}",
         "line": {
          "color": "red"
         },
         "mode": "lines",
         "name": "Sergiu.Mihalcea.PaginaOficiala",
         "type": "scatter",
         "x": [
          "2023-04-23",
          "2023-04-24"
         ],
         "y": [
          391,
          878
         ]
        },
        {
         "hovertemplate": "Username: ukraina.ru<br>Sum Posts: {y}Date: {x}",
         "line": {
          "color": "red"
         },
         "mode": "lines",
         "name": "ukraina.ru",
         "type": "scatter",
         "x": [
          "2023-02-25",
          "2023-03-02",
          "2023-03-03",
          "2023-03-08",
          "2023-03-10",
          "2023-03-11",
          "2023-03-12",
          "2023-03-13",
          "2023-03-14",
          "2023-03-15",
          "2023-03-17",
          "2023-03-20",
          "2023-03-22",
          "2023-03-25",
          "2023-03-26",
          "2023-03-27",
          "2023-03-29",
          "2023-03-30",
          "2023-04-01",
          "2023-04-02",
          "2023-04-03",
          "2023-04-04",
          "2023-04-05",
          "2023-04-06",
          "2023-04-07",
          "2023-04-15",
          "2023-04-22",
          "2023-04-23"
         ],
         "y": [
          0,
          1,
          7,
          0,
          0,
          4,
          0,
          3,
          2,
          6,
          2,
          0,
          1,
          0,
          15,
          5,
          0,
          4,
          1,
          1,
          24,
          3,
          0,
          3,
          16,
          14,
          2,
          36
         ]
        },
        {
         "hovertemplate": "Username: NuoViso.TV<br>Sum Posts: {y}Date: {x}",
         "line": {
          "color": "red"
         },
         "mode": "lines",
         "name": "NuoViso.TV",
         "type": "scatter",
         "x": [
          "2023-04-20",
          "2023-04-21",
          "2023-04-22",
          "2023-04-23",
          "2023-04-24"
         ],
         "y": [
          4,
          4,
          1,
          2,
          0
         ]
        },
        {
         "hovertemplate": "Username: armadaRF<br>Sum Posts: {y}Date: {x}",
         "line": {
          "color": "red"
         },
         "mode": "lines",
         "name": "armadaRF",
         "type": "scatter",
         "x": [
          "2023-04-23",
          "2023-04-24"
         ],
         "y": [
          84,
          105
         ]
        },
        {
         "hovertemplate": "Username: RussophiliaBulgarophilia<br>Sum Posts: {y}Date: {x}",
         "line": {
          "color": "red"
         },
         "mode": "lines",
         "name": "RussophiliaBulgarophilia",
         "type": "scatter",
         "x": [
          "2023-04-05",
          "2023-04-06",
          "2023-04-07",
          "2023-04-09",
          "2023-04-10",
          "2023-04-11",
          "2023-04-12",
          "2023-04-13",
          "2023-04-14",
          "2023-04-15",
          "2023-04-17",
          "2023-04-19",
          "2023-04-20",
          "2023-04-21",
          "2023-04-22",
          "2023-04-23",
          "2023-04-24"
         ],
         "y": [
          16,
          0,
          0,
          14,
          0,
          8,
          1,
          0,
          1,
          0,
          1,
          3,
          0,
          0,
          0,
          0,
          0
         ]
        },
        {
         "hovertemplate": "Username: ambrusitalia<br>Sum Posts: {y}Date: {x}",
         "line": {
          "color": "green"
         },
         "mode": "lines",
         "name": "ambrusitalia",
         "type": "scatter",
         "x": [
          "2023-04-22",
          "2023-04-23",
          "2023-04-24"
         ],
         "y": [
          93,
          130,
          161
         ]
        },
        {
         "hovertemplate": "Username: russembangola<br>Sum Posts: {y}Date: {x}",
         "line": {
          "color": "green"
         },
         "mode": "lines",
         "name": "russembangola",
         "type": "scatter",
         "x": [
          "2023-04-23",
          "2023-04-24"
         ],
         "y": [
          334,
          328
         ]
        },
        {
         "hovertemplate": "Username: unzensuriert<br>Sum Posts: {y}Date: {x}",
         "line": {
          "color": "red"
         },
         "mode": "lines",
         "name": "unzensuriert",
         "type": "scatter",
         "x": [
          "2022-12-17",
          "2022-12-22",
          "2022-12-24",
          "2022-12-25",
          "2022-12-26",
          "2022-12-27",
          "2022-12-29",
          "2022-12-31",
          "2023-01-05",
          "2023-01-06",
          "2023-01-12",
          "2023-01-23",
          "2023-01-24",
          "2023-01-26",
          "2023-01-31",
          "2023-02-05",
          "2023-02-06",
          "2023-02-07",
          "2023-02-18",
          "2023-02-22",
          "2023-02-27",
          "2023-03-01",
          "2023-03-06",
          "2023-03-10",
          "2023-03-15",
          "2023-03-18",
          "2023-03-20",
          "2023-03-21",
          "2023-03-28",
          "2023-04-01",
          "2023-04-04",
          "2023-04-08",
          "2023-04-10",
          "2023-04-11",
          "2023-04-15",
          "2023-04-19",
          "2023-04-20",
          "2023-04-21"
         ],
         "y": [
          66,
          156,
          83,
          53,
          94,
          291,
          106,
          186,
          132,
          92,
          129,
          89,
          31,
          81,
          111,
          133,
          93,
          68,
          148,
          86,
          87,
          72,
          74,
          48,
          50,
          277,
          93,
          96,
          73,
          44,
          135,
          69,
          69,
          78,
          188,
          64,
          74,
          34
         ]
        },
        {
         "hovertemplate": "Username: 4media.INFO<br>Sum Posts: {y}Date: {x}",
         "line": {
          "color": "red"
         },
         "mode": "lines",
         "name": "4media.INFO",
         "type": "scatter",
         "x": [
          "2023-04-19",
          "2023-04-20",
          "2023-04-21",
          "2023-04-22",
          "2023-04-23",
          "2023-04-24"
         ],
         "y": [
          0,
          0,
          0,
          0,
          0,
          1
         ]
        },
        {
         "hovertemplate": "Username: RT.InoTV<br>Sum Posts: {y}Date: {x}",
         "line": {
          "color": "red"
         },
         "mode": "lines",
         "name": "RT.InoTV",
         "type": "scatter",
         "x": [
          "2023-04-16",
          "2023-04-17",
          "2023-04-18",
          "2023-04-19",
          "2023-04-20",
          "2023-04-21",
          "2023-04-22",
          "2023-04-23",
          "2023-04-24"
         ],
         "y": [
          0,
          0,
          0,
          0,
          0,
          1,
          1,
          0,
          1
         ]
        },
        {
         "hovertemplate": "Username: sputnik.france<br>Sum Posts: {y}Date: {x}",
         "line": {
          "color": "green"
         },
         "mode": "lines",
         "name": "sputnik.france",
         "type": "scatter",
         "x": [
          "2023-01-26",
          "2023-02-02",
          "2023-03-22",
          "2023-03-23",
          "2023-03-24",
          "2023-03-25",
          "2023-03-27",
          "2023-03-28",
          "2023-04-04",
          "2023-04-05"
         ],
         "y": [
          7,
          6,
          0,
          3,
          1,
          4,
          1,
          1,
          3,
          4
         ]
        },
        {
         "hovertemplate": "Username: NatoAustritt<br>Sum Posts: {y}Date: {x}",
         "line": {
          "color": "red"
         },
         "mode": "lines",
         "name": "NatoAustritt",
         "type": "scatter",
         "x": [
          "2023-04-18",
          "2023-04-19",
          "2023-04-20",
          "2023-04-21",
          "2023-04-22",
          "2023-04-23",
          "2023-04-24"
         ],
         "y": [
          1,
          5,
          7,
          2,
          14,
          0,
          1
         ]
        },
        {
         "hovertemplate": "Username: wimacht<br>Sum Posts: {y}Date: {x}",
         "line": {
          "color": "red"
         },
         "mode": "lines",
         "name": "wimacht",
         "type": "scatter",
         "x": [
          "2023-04-17",
          "2023-04-18",
          "2023-04-19",
          "2023-04-20",
          "2023-04-21",
          "2023-04-22",
          "2023-04-23"
         ],
         "y": [
          0,
          0,
          1,
          2,
          1,
          1,
          0
         ]
        },
        {
         "hovertemplate": "Username: tassagency<br>Sum Posts: {y}Date: {x}",
         "line": {
          "color": "green"
         },
         "mode": "lines",
         "name": "tassagency",
         "type": "scatter",
         "x": [
          "2023-04-22",
          "2023-04-23",
          "2023-04-24"
         ],
         "y": [
          0,
          7,
          11
         ]
        },
        {
         "hovertemplate": "Username: mod.mil.rus<br>Sum Posts: {y}Date: {x}",
         "line": {
          "color": "green"
         },
         "mode": "lines",
         "name": "mod.mil.rus",
         "type": "scatter",
         "x": [
          "2023-03-21",
          "2023-04-22",
          "2023-04-23",
          "2023-04-24"
         ],
         "y": [
          1,
          3,
          0,
          2
         ]
        },
        {
         "hovertemplate": "Username: nicvoiculet<br>Sum Posts: {y}Date: {x}",
         "line": {
          "color": "green"
         },
         "mode": "lines",
         "name": "nicvoiculet",
         "type": "scatter",
         "x": [
          "2023-04-22",
          "2023-04-23",
          "2023-04-24"
         ],
         "y": [
          0,
          13,
          1
         ]
        },
        {
         "hovertemplate": "Username: giorgio.bianchi.100<br>Sum Posts: {y}Date: {x}",
         "line": {
          "color": "red"
         },
         "mode": "lines",
         "name": "giorgio.bianchi.100",
         "type": "scatter",
         "x": [
          "2023-04-18",
          "2023-04-19",
          "2023-04-20",
          "2023-04-21",
          "2023-04-22",
          "2023-04-23",
          "2023-04-24"
         ],
         "y": [
          14,
          8,
          91,
          37,
          0,
          50,
          66
         ]
        },
        {
         "hovertemplate": "Username: 1tvnews<br>Sum Posts: {y}Date: {x}",
         "line": {
          "color": "green"
         },
         "mode": "lines",
         "name": "1tvnews",
         "type": "scatter",
         "x": [
          "2023-04-17",
          "2023-04-18",
          "2023-04-19",
          "2023-04-20",
          "2023-04-21",
          "2023-04-22",
          "2023-04-23",
          "2023-04-24"
         ],
         "y": [
          1,
          7,
          2,
          1,
          3,
          2,
          3,
          1
         ]
        },
        {
         "hovertemplate": "Username: lentaru<br>Sum Posts: {y}Date: {x}",
         "line": {
          "color": "green"
         },
         "mode": "lines",
         "name": "lentaru",
         "type": "scatter",
         "x": [
          "2022-12-01",
          "2022-12-25",
          "2023-01-02",
          "2023-01-05",
          "2023-01-10",
          "2023-02-06",
          "2023-04-07"
         ],
         "y": [
          0,
          0,
          0,
          0,
          0,
          0,
          0
         ]
        },
        {
         "hovertemplate": "Username: friedentotal<br>Sum Posts: {y}Date: {x}",
         "line": {
          "color": "red"
         },
         "mode": "lines",
         "name": "friedentotal",
         "type": "scatter",
         "x": [
          "2022-12-01",
          "2022-12-22",
          "2023-01-12",
          "2023-01-19",
          "2023-02-09",
          "2023-02-16",
          "2023-02-18",
          "2023-02-23",
          "2023-02-25",
          "2023-03-02",
          "2023-03-16",
          "2023-03-23",
          "2023-03-30",
          "2023-04-13",
          "2023-04-24"
         ],
         "y": [
          5,
          19,
          88,
          18,
          12,
          4,
          139,
          6,
          109,
          7,
          46,
          12,
          23,
          9,
          159
         ]
        },
        {
         "hovertemplate": "Username: 6001<br>Sum Posts: {y}Date: {x}",
         "line": {
          "color": "orange"
         },
         "mode": "lines",
         "name": "6001",
         "type": "scatter",
         "x": [
          "2022-12-23",
          "2023-01-11",
          "2023-02-25",
          "2023-03-13",
          "2023-03-14",
          "2023-03-15",
          "2023-03-16",
          "2023-03-17",
          "2023-03-18",
          "2023-03-19",
          "2023-03-20",
          "2023-03-21"
         ],
         "y": [
          28,
          7,
          78,
          8,
          13,
          4,
          4,
          3,
          15,
          2,
          5,
          15
         ]
        },
        {
         "hovertemplate": "Username: group/rumenradevspasitel<br>Sum Posts: {y}Date: {x}",
         "line": {
          "color": "orange"
         },
         "mode": "lines",
         "name": "group/rumenradevspasitel",
         "type": "scatter",
         "x": [
          "2022-12-14",
          "2023-01-12",
          "2023-01-14",
          "2023-01-22",
          "2023-01-23",
          "2023-01-24",
          "2023-02-01",
          "2023-02-02",
          "2023-02-03",
          "2023-02-06",
          "2023-02-07",
          "2023-02-17",
          "2023-02-22",
          "2023-02-24",
          "2023-02-28",
          "2023-03-01",
          "2023-03-02",
          "2023-03-03",
          "2023-03-04",
          "2023-03-09",
          "2023-03-16",
          "2023-03-21",
          "2023-03-28",
          "2023-04-06",
          "2023-04-09",
          "2023-04-12",
          "2023-04-15",
          "2023-04-16",
          "2023-04-17",
          "2023-04-20",
          "2023-04-22"
         ],
         "y": [
          15,
          5,
          19,
          8,
          37,
          6,
          40,
          27,
          11,
          8,
          14,
          7,
          9,
          9,
          1,
          7,
          7,
          7,
          6,
          8,
          9,
          10,
          15,
          11,
          18,
          7,
          4,
          61,
          1,
          3,
          10
         ]
        },
        {
         "hovertemplate": "Username: 5808<br>Sum Posts: {y}Date: {x}",
         "line": {
          "color": "orange"
         },
         "mode": "lines",
         "name": "5808",
         "type": "scatter",
         "x": [
          "2023-04-24"
         ],
         "y": [
          124
         ]
        }
       ],
       "layout": {
        "annotations": [
         {
          "font": {
           "size": 15
          },
          "showarrow": false,
          "text": "Colors:",
          "x": 1.05,
          "xref": "paper",
          "y": 1,
          "yref": "paper"
         },
         {
          "showarrow": false,
          "text": "Verified: Green",
          "x": 1.05,
          "xref": "paper",
          "y": 0.9,
          "yref": "paper"
         },
         {
          "showarrow": false,
          "text": "Not Verified: Red",
          "x": 1.05,
          "xref": "paper",
          "y": 0.8,
          "yref": "paper"
         },
         {
          "showarrow": false,
          "text": "Unknown: Orange",
          "x": 1.05,
          "xref": "paper",
          "y": 0.7,
          "yref": "paper"
         }
        ],
        "template": {
         "data": {
          "bar": [
           {
            "error_x": {
             "color": "#2a3f5f"
            },
            "error_y": {
             "color": "#2a3f5f"
            },
            "marker": {
             "line": {
              "color": "#E5ECF6",
              "width": 0.5
             },
             "pattern": {
              "fillmode": "overlay",
              "size": 10,
              "solidity": 0.2
             }
            },
            "type": "bar"
           }
          ],
          "barpolar": [
           {
            "marker": {
             "line": {
              "color": "#E5ECF6",
              "width": 0.5
             },
             "pattern": {
              "fillmode": "overlay",
              "size": 10,
              "solidity": 0.2
             }
            },
            "type": "barpolar"
           }
          ],
          "carpet": [
           {
            "aaxis": {
             "endlinecolor": "#2a3f5f",
             "gridcolor": "white",
             "linecolor": "white",
             "minorgridcolor": "white",
             "startlinecolor": "#2a3f5f"
            },
            "baxis": {
             "endlinecolor": "#2a3f5f",
             "gridcolor": "white",
             "linecolor": "white",
             "minorgridcolor": "white",
             "startlinecolor": "#2a3f5f"
            },
            "type": "carpet"
           }
          ],
          "choropleth": [
           {
            "colorbar": {
             "outlinewidth": 0,
             "ticks": ""
            },
            "type": "choropleth"
           }
          ],
          "contour": [
           {
            "colorbar": {
             "outlinewidth": 0,
             "ticks": ""
            },
            "colorscale": [
             [
              0,
              "#0d0887"
             ],
             [
              0.1111111111111111,
              "#46039f"
             ],
             [
              0.2222222222222222,
              "#7201a8"
             ],
             [
              0.3333333333333333,
              "#9c179e"
             ],
             [
              0.4444444444444444,
              "#bd3786"
             ],
             [
              0.5555555555555556,
              "#d8576b"
             ],
             [
              0.6666666666666666,
              "#ed7953"
             ],
             [
              0.7777777777777778,
              "#fb9f3a"
             ],
             [
              0.8888888888888888,
              "#fdca26"
             ],
             [
              1,
              "#f0f921"
             ]
            ],
            "type": "contour"
           }
          ],
          "contourcarpet": [
           {
            "colorbar": {
             "outlinewidth": 0,
             "ticks": ""
            },
            "type": "contourcarpet"
           }
          ],
          "heatmap": [
           {
            "colorbar": {
             "outlinewidth": 0,
             "ticks": ""
            },
            "colorscale": [
             [
              0,
              "#0d0887"
             ],
             [
              0.1111111111111111,
              "#46039f"
             ],
             [
              0.2222222222222222,
              "#7201a8"
             ],
             [
              0.3333333333333333,
              "#9c179e"
             ],
             [
              0.4444444444444444,
              "#bd3786"
             ],
             [
              0.5555555555555556,
              "#d8576b"
             ],
             [
              0.6666666666666666,
              "#ed7953"
             ],
             [
              0.7777777777777778,
              "#fb9f3a"
             ],
             [
              0.8888888888888888,
              "#fdca26"
             ],
             [
              1,
              "#f0f921"
             ]
            ],
            "type": "heatmap"
           }
          ],
          "heatmapgl": [
           {
            "colorbar": {
             "outlinewidth": 0,
             "ticks": ""
            },
            "colorscale": [
             [
              0,
              "#0d0887"
             ],
             [
              0.1111111111111111,
              "#46039f"
             ],
             [
              0.2222222222222222,
              "#7201a8"
             ],
             [
              0.3333333333333333,
              "#9c179e"
             ],
             [
              0.4444444444444444,
              "#bd3786"
             ],
             [
              0.5555555555555556,
              "#d8576b"
             ],
             [
              0.6666666666666666,
              "#ed7953"
             ],
             [
              0.7777777777777778,
              "#fb9f3a"
             ],
             [
              0.8888888888888888,
              "#fdca26"
             ],
             [
              1,
              "#f0f921"
             ]
            ],
            "type": "heatmapgl"
           }
          ],
          "histogram": [
           {
            "marker": {
             "pattern": {
              "fillmode": "overlay",
              "size": 10,
              "solidity": 0.2
             }
            },
            "type": "histogram"
           }
          ],
          "histogram2d": [
           {
            "colorbar": {
             "outlinewidth": 0,
             "ticks": ""
            },
            "colorscale": [
             [
              0,
              "#0d0887"
             ],
             [
              0.1111111111111111,
              "#46039f"
             ],
             [
              0.2222222222222222,
              "#7201a8"
             ],
             [
              0.3333333333333333,
              "#9c179e"
             ],
             [
              0.4444444444444444,
              "#bd3786"
             ],
             [
              0.5555555555555556,
              "#d8576b"
             ],
             [
              0.6666666666666666,
              "#ed7953"
             ],
             [
              0.7777777777777778,
              "#fb9f3a"
             ],
             [
              0.8888888888888888,
              "#fdca26"
             ],
             [
              1,
              "#f0f921"
             ]
            ],
            "type": "histogram2d"
           }
          ],
          "histogram2dcontour": [
           {
            "colorbar": {
             "outlinewidth": 0,
             "ticks": ""
            },
            "colorscale": [
             [
              0,
              "#0d0887"
             ],
             [
              0.1111111111111111,
              "#46039f"
             ],
             [
              0.2222222222222222,
              "#7201a8"
             ],
             [
              0.3333333333333333,
              "#9c179e"
             ],
             [
              0.4444444444444444,
              "#bd3786"
             ],
             [
              0.5555555555555556,
              "#d8576b"
             ],
             [
              0.6666666666666666,
              "#ed7953"
             ],
             [
              0.7777777777777778,
              "#fb9f3a"
             ],
             [
              0.8888888888888888,
              "#fdca26"
             ],
             [
              1,
              "#f0f921"
             ]
            ],
            "type": "histogram2dcontour"
           }
          ],
          "mesh3d": [
           {
            "colorbar": {
             "outlinewidth": 0,
             "ticks": ""
            },
            "type": "mesh3d"
           }
          ],
          "parcoords": [
           {
            "line": {
             "colorbar": {
              "outlinewidth": 0,
              "ticks": ""
             }
            },
            "type": "parcoords"
           }
          ],
          "pie": [
           {
            "automargin": true,
            "type": "pie"
           }
          ],
          "scatter": [
           {
            "fillpattern": {
             "fillmode": "overlay",
             "size": 10,
             "solidity": 0.2
            },
            "type": "scatter"
           }
          ],
          "scatter3d": [
           {
            "line": {
             "colorbar": {
              "outlinewidth": 0,
              "ticks": ""
             }
            },
            "marker": {
             "colorbar": {
              "outlinewidth": 0,
              "ticks": ""
             }
            },
            "type": "scatter3d"
           }
          ],
          "scattercarpet": [
           {
            "marker": {
             "colorbar": {
              "outlinewidth": 0,
              "ticks": ""
             }
            },
            "type": "scattercarpet"
           }
          ],
          "scattergeo": [
           {
            "marker": {
             "colorbar": {
              "outlinewidth": 0,
              "ticks": ""
             }
            },
            "type": "scattergeo"
           }
          ],
          "scattergl": [
           {
            "marker": {
             "colorbar": {
              "outlinewidth": 0,
              "ticks": ""
             }
            },
            "type": "scattergl"
           }
          ],
          "scattermapbox": [
           {
            "marker": {
             "colorbar": {
              "outlinewidth": 0,
              "ticks": ""
             }
            },
            "type": "scattermapbox"
           }
          ],
          "scatterpolar": [
           {
            "marker": {
             "colorbar": {
              "outlinewidth": 0,
              "ticks": ""
             }
            },
            "type": "scatterpolar"
           }
          ],
          "scatterpolargl": [
           {
            "marker": {
             "colorbar": {
              "outlinewidth": 0,
              "ticks": ""
             }
            },
            "type": "scatterpolargl"
           }
          ],
          "scatterternary": [
           {
            "marker": {
             "colorbar": {
              "outlinewidth": 0,
              "ticks": ""
             }
            },
            "type": "scatterternary"
           }
          ],
          "surface": [
           {
            "colorbar": {
             "outlinewidth": 0,
             "ticks": ""
            },
            "colorscale": [
             [
              0,
              "#0d0887"
             ],
             [
              0.1111111111111111,
              "#46039f"
             ],
             [
              0.2222222222222222,
              "#7201a8"
             ],
             [
              0.3333333333333333,
              "#9c179e"
             ],
             [
              0.4444444444444444,
              "#bd3786"
             ],
             [
              0.5555555555555556,
              "#d8576b"
             ],
             [
              0.6666666666666666,
              "#ed7953"
             ],
             [
              0.7777777777777778,
              "#fb9f3a"
             ],
             [
              0.8888888888888888,
              "#fdca26"
             ],
             [
              1,
              "#f0f921"
             ]
            ],
            "type": "surface"
           }
          ],
          "table": [
           {
            "cells": {
             "fill": {
              "color": "#EBF0F8"
             },
             "line": {
              "color": "white"
             }
            },
            "header": {
             "fill": {
              "color": "#C8D4E3"
             },
             "line": {
              "color": "white"
             }
            },
            "type": "table"
           }
          ]
         },
         "layout": {
          "annotationdefaults": {
           "arrowcolor": "#2a3f5f",
           "arrowhead": 0,
           "arrowwidth": 1
          },
          "autotypenumbers": "strict",
          "coloraxis": {
           "colorbar": {
            "outlinewidth": 0,
            "ticks": ""
           }
          },
          "colorscale": {
           "diverging": [
            [
             0,
             "#8e0152"
            ],
            [
             0.1,
             "#c51b7d"
            ],
            [
             0.2,
             "#de77ae"
            ],
            [
             0.3,
             "#f1b6da"
            ],
            [
             0.4,
             "#fde0ef"
            ],
            [
             0.5,
             "#f7f7f7"
            ],
            [
             0.6,
             "#e6f5d0"
            ],
            [
             0.7,
             "#b8e186"
            ],
            [
             0.8,
             "#7fbc41"
            ],
            [
             0.9,
             "#4d9221"
            ],
            [
             1,
             "#276419"
            ]
           ],
           "sequential": [
            [
             0,
             "#0d0887"
            ],
            [
             0.1111111111111111,
             "#46039f"
            ],
            [
             0.2222222222222222,
             "#7201a8"
            ],
            [
             0.3333333333333333,
             "#9c179e"
            ],
            [
             0.4444444444444444,
             "#bd3786"
            ],
            [
             0.5555555555555556,
             "#d8576b"
            ],
            [
             0.6666666666666666,
             "#ed7953"
            ],
            [
             0.7777777777777778,
             "#fb9f3a"
            ],
            [
             0.8888888888888888,
             "#fdca26"
            ],
            [
             1,
             "#f0f921"
            ]
           ],
           "sequentialminus": [
            [
             0,
             "#0d0887"
            ],
            [
             0.1111111111111111,
             "#46039f"
            ],
            [
             0.2222222222222222,
             "#7201a8"
            ],
            [
             0.3333333333333333,
             "#9c179e"
            ],
            [
             0.4444444444444444,
             "#bd3786"
            ],
            [
             0.5555555555555556,
             "#d8576b"
            ],
            [
             0.6666666666666666,
             "#ed7953"
            ],
            [
             0.7777777777777778,
             "#fb9f3a"
            ],
            [
             0.8888888888888888,
             "#fdca26"
            ],
            [
             1,
             "#f0f921"
            ]
           ]
          },
          "colorway": [
           "#636efa",
           "#EF553B",
           "#00cc96",
           "#ab63fa",
           "#FFA15A",
           "#19d3f3",
           "#FF6692",
           "#B6E880",
           "#FF97FF",
           "#FECB52"
          ],
          "font": {
           "color": "#2a3f5f"
          },
          "geo": {
           "bgcolor": "white",
           "lakecolor": "white",
           "landcolor": "#E5ECF6",
           "showlakes": true,
           "showland": true,
           "subunitcolor": "white"
          },
          "hoverlabel": {
           "align": "left"
          },
          "hovermode": "closest",
          "mapbox": {
           "style": "light"
          },
          "paper_bgcolor": "white",
          "plot_bgcolor": "#E5ECF6",
          "polar": {
           "angularaxis": {
            "gridcolor": "white",
            "linecolor": "white",
            "ticks": ""
           },
           "bgcolor": "#E5ECF6",
           "radialaxis": {
            "gridcolor": "white",
            "linecolor": "white",
            "ticks": ""
           }
          },
          "scene": {
           "xaxis": {
            "backgroundcolor": "#E5ECF6",
            "gridcolor": "white",
            "gridwidth": 2,
            "linecolor": "white",
            "showbackground": true,
            "ticks": "",
            "zerolinecolor": "white"
           },
           "yaxis": {
            "backgroundcolor": "#E5ECF6",
            "gridcolor": "white",
            "gridwidth": 2,
            "linecolor": "white",
            "showbackground": true,
            "ticks": "",
            "zerolinecolor": "white"
           },
           "zaxis": {
            "backgroundcolor": "#E5ECF6",
            "gridcolor": "white",
            "gridwidth": 2,
            "linecolor": "white",
            "showbackground": true,
            "ticks": "",
            "zerolinecolor": "white"
           }
          },
          "shapedefaults": {
           "line": {
            "color": "#2a3f5f"
           }
          },
          "ternary": {
           "aaxis": {
            "gridcolor": "white",
            "linecolor": "white",
            "ticks": ""
           },
           "baxis": {
            "gridcolor": "white",
            "linecolor": "white",
            "ticks": ""
           },
           "bgcolor": "#E5ECF6",
           "caxis": {
            "gridcolor": "white",
            "linecolor": "white",
            "ticks": ""
           }
          },
          "title": {
           "x": 0.05
          },
          "xaxis": {
           "automargin": true,
           "gridcolor": "white",
           "linecolor": "white",
           "ticks": "",
           "title": {
            "standoff": 15
           },
           "zerolinecolor": "white",
           "zerolinewidth": 2
          },
          "yaxis": {
           "automargin": true,
           "gridcolor": "white",
           "linecolor": "white",
           "ticks": "",
           "title": {
            "standoff": 15
           },
           "zerolinecolor": "white",
           "zerolinewidth": 2
          }
         }
        },
        "title": {
         "text": "sum comments on period line divided by media sources"
        }
       }
      }
     },
     "metadata": {},
     "output_type": "display_data"
    },
    {
     "data": {
      "text/markdown": [
       "**On chart we can see sum comments on period line divided by media sources.**\n",
       "\n",
       "**Red - not verified**\n",
       "\n",
       "**Green - verified**\n",
       "\n",
       "**Orange - don't know**\n",
       "\n",
       "**But on this chart hard to see something**"
      ],
      "text/plain": [
       "<IPython.core.display.Markdown object>"
      ]
     },
     "metadata": {},
     "output_type": "display_data"
    }
   ],
   "source": [
    "SumComments_OnPeriod_Divided_byMedia(Aks_groupbyPosts_periods)"
   ]
  },
  {
   "attachments": {},
   "cell_type": "markdown",
   "metadata": {},
   "source": [
    "## -> 7. TRENDS! ... Top posts by comments. Dataframe output"
   ]
  },
  {
   "cell_type": "code",
   "execution_count": 320,
   "metadata": {},
   "outputs": [
    {
     "data": {
      "text/html": [
       "<div>\n",
       "<style scoped>\n",
       "    .dataframe tbody tr th:only-of-type {\n",
       "        vertical-align: middle;\n",
       "    }\n",
       "\n",
       "    .dataframe tbody tr th {\n",
       "        vertical-align: top;\n",
       "    }\n",
       "\n",
       "    .dataframe thead th {\n",
       "        text-align: right;\n",
       "    }\n",
       "</style>\n",
       "<table border=\"1\" class=\"dataframe\">\n",
       "  <thead>\n",
       "    <tr style=\"text-align: right;\">\n",
       "      <th></th>\n",
       "      <th>created_time</th>\n",
       "      <th>username</th>\n",
       "      <th>description</th>\n",
       "      <th>text_original</th>\n",
       "      <th>comments_count</th>\n",
       "    </tr>\n",
       "  </thead>\n",
       "  <tbody>\n",
       "    <tr>\n",
       "      <th>11</th>\n",
       "      <td>2023-04-24</td>\n",
       "      <td>russembangola</td>\n",
       "      <td>A página oficial da Embaixada da Rússia em Ang...</td>\n",
       "      <td>Când o mamă se roagă pentru copiii ei, Dumneze...</td>\n",
       "      <td>98</td>\n",
       "    </tr>\n",
       "    <tr>\n",
       "      <th>16</th>\n",
       "      <td>2023-04-24</td>\n",
       "      <td>russembangola</td>\n",
       "      <td>A página oficial da Embaixada da Rússia em Ang...</td>\n",
       "      <td># 🙏❤️[Hristos a purtat crucea ca orice suflet ...</td>\n",
       "      <td>73</td>\n",
       "    </tr>\n",
       "    <tr>\n",
       "      <th>27</th>\n",
       "      <td>2023-04-23</td>\n",
       "      <td>russembangola</td>\n",
       "      <td>A página oficial da Embaixada da Rússia em Ang...</td>\n",
       "      <td>🌺Mai frumoasă rugăciune,Fie ca família ta să f...</td>\n",
       "      <td>88</td>\n",
       "    </tr>\n",
       "    <tr>\n",
       "      <th>43</th>\n",
       "      <td>2023-03-01</td>\n",
       "      <td>Prüfe-alles-glaube-wenig-denke-selbst</td>\n",
       "      <td>🙂 https://t.me/pruefealles &amp; 🎬 https://rumble....</td>\n",
       "      <td>بثينة شعبان تتحدث لـRT حول تغير العلاقة بين سو...</td>\n",
       "      <td>118</td>\n",
       "    </tr>\n",
       "    <tr>\n",
       "      <th>52</th>\n",
       "      <td>2023-02-06</td>\n",
       "      <td>Prüfe-alles-glaube-wenig-denke-selbst</td>\n",
       "      <td>🙂 https://t.me/pruefealles &amp; 🎬 https://rumble....</td>\n",
       "      <td>مباشر من سوريا.. لحظات عصيبة وحاسمة في البحث ع...</td>\n",
       "      <td>96</td>\n",
       "    </tr>\n",
       "  </tbody>\n",
       "</table>\n",
       "</div>"
      ],
      "text/plain": [
       "   created_time                               username  \\\n",
       "11   2023-04-24                          russembangola   \n",
       "16   2023-04-24                          russembangola   \n",
       "27   2023-04-23                          russembangola   \n",
       "43   2023-03-01  Prüfe-alles-glaube-wenig-denke-selbst   \n",
       "52   2023-02-06  Prüfe-alles-glaube-wenig-denke-selbst   \n",
       "\n",
       "                                          description  \\\n",
       "11  A página oficial da Embaixada da Rússia em Ang...   \n",
       "16  A página oficial da Embaixada da Rússia em Ang...   \n",
       "27  A página oficial da Embaixada da Rússia em Ang...   \n",
       "43  🙂 https://t.me/pruefealles & 🎬 https://rumble....   \n",
       "52  🙂 https://t.me/pruefealles & 🎬 https://rumble....   \n",
       "\n",
       "                                        text_original  comments_count  \n",
       "11  Când o mamă se roagă pentru copiii ei, Dumneze...              98  \n",
       "16  # 🙏❤️[Hristos a purtat crucea ca orice suflet ...              73  \n",
       "27  🌺Mai frumoasă rugăciune,Fie ca família ta să f...              88  \n",
       "43  بثينة شعبان تتحدث لـRT حول تغير العلاقة بين سو...             118  \n",
       "52  مباشر من سوريا.. لحظات عصيبة وحاسمة في البحث ع...              96  "
      ]
     },
     "execution_count": 320,
     "metadata": {},
     "output_type": "execute_result"
    }
   ],
   "source": [
    "display_trends_posts().head(5)"
   ]
  },
  {
   "attachments": {},
   "cell_type": "markdown",
   "metadata": {},
   "source": [
    "## -> 8. Divide media on quantiles and then grouping them with relevant information. Styled Dataframe"
   ]
  },
  {
   "cell_type": "code",
   "execution_count": 317,
   "metadata": {},
   "outputs": [
    {
     "data": {
      "text/html": [
       "<style type=\"text/css\">\n",
       "#T_7f84d_row1_col0, #T_7f84d_row1_col1, #T_7f84d_row1_col2, #T_7f84d_row1_col3, #T_7f84d_row1_col4, #T_7f84d_row1_col5, #T_7f84d_row1_col6, #T_7f84d_row1_col7, #T_7f84d_row1_col8, #T_7f84d_row2_col0, #T_7f84d_row2_col1, #T_7f84d_row2_col2, #T_7f84d_row2_col3, #T_7f84d_row2_col4, #T_7f84d_row2_col5, #T_7f84d_row2_col6, #T_7f84d_row2_col7, #T_7f84d_row2_col8 {\n",
       "  background-color: green;\n",
       "}\n",
       "</style>\n",
       "<table id=\"T_7f84d\">\n",
       "  <thead>\n",
       "    <tr>\n",
       "      <th class=\"blank level0\" >&nbsp;</th>\n",
       "      <th id=\"T_7f84d_level0_col0\" class=\"col_heading level0 col0\" >quantile_group</th>\n",
       "      <th id=\"T_7f84d_level0_col1\" class=\"col_heading level0 col1\" >all_accounts_inGroup</th>\n",
       "      <th id=\"T_7f84d_level0_col2\" class=\"col_heading level0 col2\" >verified_accounts</th>\n",
       "      <th id=\"T_7f84d_level0_col3\" class=\"col_heading level0 col3\" >all_followers</th>\n",
       "      <th id=\"T_7f84d_level0_col4\" class=\"col_heading level0 col4\" >all_posts</th>\n",
       "      <th id=\"T_7f84d_level0_col5\" class=\"col_heading level0 col5\" >Total_posts_percentage</th>\n",
       "      <th id=\"T_7f84d_level0_col6\" class=\"col_heading level0 col6\" >all_comments</th>\n",
       "      <th id=\"T_7f84d_level0_col7\" class=\"col_heading level0 col7\" >Total_comments_percentage</th>\n",
       "      <th id=\"T_7f84d_level0_col8\" class=\"col_heading level0 col8\" >average_activeDays</th>\n",
       "    </tr>\n",
       "  </thead>\n",
       "  <tbody>\n",
       "    <tr>\n",
       "      <th id=\"T_7f84d_level0_row0\" class=\"row_heading level0 row0\" >0</th>\n",
       "      <td id=\"T_7f84d_row0_col0\" class=\"data row0 col0\" >Giant media</td>\n",
       "      <td id=\"T_7f84d_row0_col1\" class=\"data row0 col1\" >7</td>\n",
       "      <td id=\"T_7f84d_row0_col2\" class=\"data row0 col2\" >6</td>\n",
       "      <td id=\"T_7f84d_row0_col3\" class=\"data row0 col3\" >4983579</td>\n",
       "      <td id=\"T_7f84d_row0_col4\" class=\"data row0 col4\" >241</td>\n",
       "      <td id=\"T_7f84d_row0_col5\" class=\"data row0 col5\" >21.0%</td>\n",
       "      <td id=\"T_7f84d_row0_col6\" class=\"data row0 col6\" >1702</td>\n",
       "      <td id=\"T_7f84d_row0_col7\" class=\"data row0 col7\" >13.0%</td>\n",
       "      <td id=\"T_7f84d_row0_col8\" class=\"data row0 col8\" >8.285714</td>\n",
       "    </tr>\n",
       "    <tr>\n",
       "      <th id=\"T_7f84d_level0_row1\" class=\"row_heading level0 row1\" >1</th>\n",
       "      <td id=\"T_7f84d_row1_col0\" class=\"data row1 col0\" >Large media</td>\n",
       "      <td id=\"T_7f84d_row1_col1\" class=\"data row1 col1\" >10</td>\n",
       "      <td id=\"T_7f84d_row1_col2\" class=\"data row1 col2\" >1</td>\n",
       "      <td id=\"T_7f84d_row1_col3\" class=\"data row1 col3\" >1024198</td>\n",
       "      <td id=\"T_7f84d_row1_col4\" class=\"data row1 col4\" >390</td>\n",
       "      <td id=\"T_7f84d_row1_col5\" class=\"data row1 col5\" >34.0%</td>\n",
       "      <td id=\"T_7f84d_row1_col6\" class=\"data row1 col6\" >4504</td>\n",
       "      <td id=\"T_7f84d_row1_col7\" class=\"data row1 col7\" >35.0%</td>\n",
       "      <td id=\"T_7f84d_row1_col8\" class=\"data row1 col8\" >9.200000</td>\n",
       "    </tr>\n",
       "    <tr>\n",
       "      <th id=\"T_7f84d_level0_row2\" class=\"row_heading level0 row2\" >2</th>\n",
       "      <td id=\"T_7f84d_row2_col0\" class=\"data row2 col0\" >Medium media</td>\n",
       "      <td id=\"T_7f84d_row2_col1\" class=\"data row2 col1\" >6</td>\n",
       "      <td id=\"T_7f84d_row2_col2\" class=\"data row2 col2\" >1</td>\n",
       "      <td id=\"T_7f84d_row2_col3\" class=\"data row2 col3\" >318316</td>\n",
       "      <td id=\"T_7f84d_row2_col4\" class=\"data row2 col4\" >234</td>\n",
       "      <td id=\"T_7f84d_row2_col5\" class=\"data row2 col5\" >21.0%</td>\n",
       "      <td id=\"T_7f84d_row2_col6\" class=\"data row2 col6\" >4971</td>\n",
       "      <td id=\"T_7f84d_row2_col7\" class=\"data row2 col7\" >39.0%</td>\n",
       "      <td id=\"T_7f84d_row2_col8\" class=\"data row2 col8\" >13.500000</td>\n",
       "    </tr>\n",
       "    <tr>\n",
       "      <th id=\"T_7f84d_level0_row3\" class=\"row_heading level0 row3\" >3</th>\n",
       "      <td id=\"T_7f84d_row3_col0\" class=\"data row3 col0\" >Small media</td>\n",
       "      <td id=\"T_7f84d_row3_col1\" class=\"data row3 col1\" >7</td>\n",
       "      <td id=\"T_7f84d_row3_col2\" class=\"data row3 col2\" >2</td>\n",
       "      <td id=\"T_7f84d_row3_col3\" class=\"data row3 col3\" >211992</td>\n",
       "      <td id=\"T_7f84d_row3_col4\" class=\"data row3 col4\" >273</td>\n",
       "      <td id=\"T_7f84d_row3_col5\" class=\"data row3 col5\" >24.0%</td>\n",
       "      <td id=\"T_7f84d_row3_col6\" class=\"data row3 col6\" >1716</td>\n",
       "      <td id=\"T_7f84d_row3_col7\" class=\"data row3 col7\" >13.0%</td>\n",
       "      <td id=\"T_7f84d_row3_col8\" class=\"data row3 col8\" >13.428571</td>\n",
       "    </tr>\n",
       "  </tbody>\n",
       "</table>\n"
      ],
      "text/plain": [
       "<pandas.io.formats.style.Styler at 0x1547d2c3490>"
      ]
     },
     "metadata": {},
     "output_type": "display_data"
    }
   ],
   "source": [
    "stats_byGrouped_Media(Aks_groupbyPosts_periods)"
   ]
  }
 ],
 "metadata": {
  "kernelspec": {
   "display_name": "trementum_venv",
   "language": "python",
   "name": "python3"
  },
  "language_info": {
   "codemirror_mode": {
    "name": "ipython",
    "version": 3
   },
   "file_extension": ".py",
   "mimetype": "text/x-python",
   "name": "python",
   "nbconvert_exporter": "python",
   "pygments_lexer": "ipython3",
   "version": "3.11.5"
  },
  "orig_nbformat": 4
 },
 "nbformat": 4,
 "nbformat_minor": 2
}
